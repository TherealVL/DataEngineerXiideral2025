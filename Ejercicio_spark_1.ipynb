{
 "cells": [
  {
   "cell_type": "code",
   "execution_count": 1,
   "id": "a2c70f2a-fbc8-417c-812d-e65b8c98bade",
   "metadata": {},
   "outputs": [],
   "source": [
    "from pyspark.sql import SparkSession\n",
    "from pyspark.sql.functions import explode, split, col, regexp_replace, size\n",
    "import requests"
   ]
  },
  {
   "cell_type": "code",
   "execution_count": 2,
   "id": "0c1b6c92-413d-4b4e-a73b-c2bf412e4f89",
   "metadata": {},
   "outputs": [],
   "source": [
    "spark = SparkSession.builder.appName(\"Analaislibro\").getOrCreate()\n",
    "url = \"https://www.gutenberg.org/cache/epub/75296/pg75296.txt\""
   ]
  },
  {
   "cell_type": "code",
   "execution_count": 3,
   "id": "51d61dc4-b6fd-42a6-90fa-d834a50e699f",
   "metadata": {},
   "outputs": [],
   "source": [
    "response =requests.get(url)\n",
    "libro_texto = response.text"
   ]
  },
  {
   "cell_type": "code",
   "execution_count": 4,
   "id": "c7298e5e-7b25-4bff-93a6-48df94851fb5",
   "metadata": {},
   "outputs": [],
   "source": [
    "with open(\"libro.txt\", \"w\", encoding=\"utf-8\") as file:\n",
    "    file.write(libro_texto)"
   ]
  },
  {
   "cell_type": "code",
   "execution_count": 5,
   "id": "a0f1d761-cb6c-4093-a338-c08659dd952a",
   "metadata": {},
   "outputs": [],
   "source": [
    "rdd = spark.sparkContext.textFile(\"libro.txt\")\n",
    "rdd = rdd.filter(lambda line: line.strip() !=\"\")"
   ]
  },
  {
   "cell_type": "code",
   "execution_count": 6,
   "id": "e075ecbf-bd25-492d-b58a-96157f86ad7a",
   "metadata": {},
   "outputs": [
    {
     "name": "stdout",
     "output_type": "stream",
     "text": [
      "+--------------------+\n",
      "|             parrafo|\n",
      "+--------------------+\n",
      "|The Project Guten...|\n",
      "|This ebook is for...|\n",
      "|most other parts ...|\n",
      "|whatsoever. You m...|\n",
      "|of the Project Gu...|\n",
      "|at www.gutenberg....|\n",
      "|you will have to ...|\n",
      "|before using this...|\n",
      "|Title: Reconnaiss...|\n",
      "|Author: Charles d...|\n",
      "|Contributor: Henr...|\n",
      "|Release date: Feb...|\n",
      "|    Language: French|\n",
      "|Original publicat...|\n",
      "|Credits: Galo Flo...|\n",
      "|*** START OF THE ...|\n",
      "|                 ...|\n",
      "|                 ...|\n",
      "|                 ...|\n",
      "|                 ...|\n",
      "+--------------------+\n",
      "only showing top 20 rows\n",
      "\n"
     ]
    }
   ],
   "source": [
    "capitulos = rdd.filter(lambda line: line.strip().startswith(\"CHAPTER\")).collect()\n",
    "parrafos = rdd.flatMap(lambda line: line.split(\"\\n\\n\"))\n",
    "df_parrafos = parrafos.map(lambda p: (p,)).toDF([\"parrafo\"])\n",
    "df_parrafos.show()"
   ]
  },
  {
   "cell_type": "code",
   "execution_count": 7,
   "id": "3d8cd94f-f214-4b66-a835-b919d6e4490a",
   "metadata": {},
   "outputs": [],
   "source": [
    "df_parrafos = df_parrafos.withColumn(\"parrafo_limpio\", regexp_replace(col(\"parrafo\"), \"[^a-zA-Z\\s]\", \"\").alias(\"parrafo_limpio\"))\n",
    "df_parrafos = df_parrafos.withColumn(\"parrafo_limpio\", regexp_replace(col(\"parrafo_limpio\"), \"\\s+\", \" \").alias(\"parrafo_limpio\"))\n",
    "\n",
    "df_parrafos = df_parrafos.withColumn(\"oraciones\", split(col(\"parrafo_limpio\"), \"\\.\"))\n",
    "df_parrafos = df_parrafos.withColumn(\"num_oraciones\", size(col(\"oraciones\")))\n",
    "df_parrafos = df_parrafos.withColumn(\"palabras\", split(col(\"parrafo_limpio\"), \" \"))\n",
    "df_parrafos = df_parrafos.withColumn(\"num_palabras\", size(col(\"palabras\")))"
   ]
  },
  {
   "cell_type": "code",
   "execution_count": 8,
   "id": "b73362c2-0c29-423a-880d-9f61dc42062d",
   "metadata": {},
   "outputs": [
    {
     "name": "stdout",
     "output_type": "stream",
     "text": [
      "+--------------------+--------------------+--------------------+-------------+--------------------+------------+\n",
      "|             parrafo|      parrafo_limpio|           oraciones|num_oraciones|            palabras|num_palabras|\n",
      "+--------------------+--------------------+--------------------+-------------+--------------------+------------+\n",
      "|The Project Guten...|The Project Guten...|[The Project Gute...|            1|[The, Project, Gu...|           9|\n",
      "|This ebook is for...|This ebook is for...|[This ebook is fo...|            1|[This, ebook, is,...|          14|\n",
      "|most other parts ...|most other parts ...|[most other parts...|            1|[most, other, par...|          14|\n",
      "|whatsoever. You m...|whatsoever You ma...|[whatsoever You m...|            1|[whatsoever, You,...|          14|\n",
      "|of the Project Gu...|of the Project Gu...|[of the Project G...|            1|[of, the, Project...|          11|\n",
      "|at www.gutenberg....|at wwwgutenbergor...|[at wwwgutenbergo...|            1|[at, wwwgutenberg...|          11|\n",
      "|you will have to ...|you will have to ...|[you will have to...|            1|[you, will, have,...|          14|\n",
      "|before using this...|before using this...|[before using thi...|            1|[before, using, t...|           4|\n",
      "|Title: Reconnaiss...|Title Reconnaissa...|[Title Reconnaiss...|            1|[Title, Reconnais...|           5|\n",
      "|Author: Charles d...|Author Charles de...|[Author Charles d...|            1|[Author, Charles,...|           4|\n",
      "|Contributor: Henr...|Contributor Henri...|[Contributor Henr...|            1|[Contributor, Hen...|           3|\n",
      "|Release date: Feb...|Release date Febr...|[Release date Feb...|            1|[Release, date, F...|           5|\n",
      "|    Language: French|     Language French|   [Language French]|            1|  [Language, French]|           2|\n",
      "|Original publicat...|Original publicat...|[Original publica...|            1|[Original, public...|           5|\n",
      "|Credits: Galo Flo...|Credits Galo Flor...|[Credits Galo Flo...|            1|[Credits, Galo, F...|          18|\n",
      "|*** START OF THE ...| START OF THE PRO...|[ START OF THE PR...|            1|[, START, OF, THE...|          12|\n",
      "|                 ...|      RECONNAISSANCE|   [ RECONNAISSANCE]|            1|  [, RECONNAISSANCE]|           2|\n",
      "|                 ...|                  AU|               [ AU]|            1|              [, AU]|           2|\n",
      "|                 ...|               MAROC|            [ MAROC]|            1|           [, MAROC]|           2|\n",
      "|                 ...|                    |                 [ ]|            1|                [, ]|           2|\n",
      "+--------------------+--------------------+--------------------+-------------+--------------------+------------+\n",
      "only showing top 20 rows\n",
      "\n"
     ]
    }
   ],
   "source": [
    "df_parrafos.show()"
   ]
  }
 ],
 "metadata": {
  "kernelspec": {
   "display_name": "Python 3 (ipykernel)",
   "language": "python",
   "name": "python3"
  },
  "language_info": {
   "codemirror_mode": {
    "name": "ipython",
    "version": 3
   },
   "file_extension": ".py",
   "mimetype": "text/x-python",
   "name": "python",
   "nbconvert_exporter": "python",
   "pygments_lexer": "ipython3",
   "version": "3.11.6"
  }
 },
 "nbformat": 4,
 "nbformat_minor": 5
}
