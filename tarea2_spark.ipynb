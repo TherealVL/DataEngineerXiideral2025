{
 "cells": [
  {
   "cell_type": "code",
   "execution_count": 3,
   "id": "2e1f3129-6783-42cd-9f11-f632242f58ab",
   "metadata": {},
   "outputs": [],
   "source": [
    "import boto3\n",
    "import tempfile\n",
    "from pyspark.sql import SparkSession\n",
    "\n",
    "spark = SparkSession.builder \\\n",
    "    .appName(\"NetflixAnalysisBoto3\") \\\n",
    "    .master(\"local[*]\") \\\n",
    "    .config(\"spark.executor.memory\", \"4g\") \\\n",
    "    .config(\"spark.driver.memory\", \"2g\") \\\n",
    "    .config(\"spark.executor.cores\", \"2\") \\\n",
    "    .config(\"spark.serializer\", \"org.apache.spark.serializer.KryoSerializer\") \\\n",
    "    .config(\"spark.sql.files.maxPartitionBytes\", \"128MB\") \\\n",
    "    .config(\"spark.sql.shuffle.partitions\", \"200\") \\\n",
    "    .config(\"spark.sql.execution.arrow.enabled\", \"true\") \\\n",
    "    .getOrCreate()"
   ]
  },
  {
   "cell_type": "code",
   "execution_count": 4,
   "id": "b258f3ba-a6ea-4c32-ba4d-b923f1f5473e",
   "metadata": {},
   "outputs": [
    {
     "data": {
      "text/plain": [
       "'2'"
      ]
     },
     "execution_count": 4,
     "metadata": {},
     "output_type": "execute_result"
    }
   ],
   "source": [
    "spark.conf.get(\"spark.executor.cores\")"
   ]
  },
  {
   "cell_type": "code",
   "execution_count": 5,
   "id": "1c74a7b5-8f17-40a3-ae41-b7c1ff2a723c",
   "metadata": {},
   "outputs": [],
   "source": [
    "# Carga del archivo CSV a Spark\n",
    "netflix_titles = \"netflix_titles.csv\"\n",
    "df_netflix=spark.read.csv(netflix_titles,header=True,inferSchema=True)"
   ]
  },
  {
   "cell_type": "code",
   "execution_count": 6,
   "id": "5af4944b-e9eb-4270-881f-b7884a3a62f0",
   "metadata": {},
   "outputs": [
    {
     "name": "stdout",
     "output_type": "stream",
     "text": [
      "+-------+-------+--------------------+--------------------+--------------------+--------------------+------------------+------------+------+---------+--------------------+--------------------+\n",
      "|show_id|   type|               title|            director|                cast|             country|        date_added|release_year|rating| duration|           listed_in|         description|\n",
      "+-------+-------+--------------------+--------------------+--------------------+--------------------+------------------+------------+------+---------+--------------------+--------------------+\n",
      "|     s1|  Movie|Dick Johnson Is Dead|     Kirsten Johnson|                NULL|       United States|September 25, 2021|        2020| PG-13|   90 min|       Documentaries|As her father nea...|\n",
      "|     s2|TV Show|       Blood & Water|                NULL|Ama Qamata, Khosi...|        South Africa|September 24, 2021|        2021| TV-MA|2 Seasons|International TV ...|After crossing pa...|\n",
      "|     s3|TV Show|           Ganglands|     Julien Leclercq|Sami Bouajila, Tr...|                NULL|September 24, 2021|        2021| TV-MA| 1 Season|Crime TV Shows, I...|To protect his fa...|\n",
      "|     s4|TV Show|Jailbirds New Orl...|                NULL|                NULL|                NULL|September 24, 2021|        2021| TV-MA| 1 Season|Docuseries, Reali...|Feuds, flirtation...|\n",
      "|     s5|TV Show|        Kota Factory|                NULL|Mayur More, Jiten...|               India|September 24, 2021|        2021| TV-MA|2 Seasons|International TV ...|In a city of coac...|\n",
      "|     s6|TV Show|       Midnight Mass|       Mike Flanagan|Kate Siegel, Zach...|                NULL|September 24, 2021|        2021| TV-MA| 1 Season|TV Dramas, TV Hor...|The arrival of a ...|\n",
      "|     s7|  Movie|My Little Pony: A...|Robert Cullen, Jo...|Vanessa Hudgens, ...|                NULL|September 24, 2021|        2021|    PG|   91 min|Children & Family...|Equestria's divid...|\n",
      "|     s8|  Movie|             Sankofa|        Haile Gerima|Kofi Ghanaba, Oya...|United States, Gh...|September 24, 2021|        1993| TV-MA|  125 min|Dramas, Independe...|On a photo shoot ...|\n",
      "|     s9|TV Show|The Great British...|     Andy Devonshire|Mel Giedroyc, Sue...|      United Kingdom|September 24, 2021|        2021| TV-14|9 Seasons|British TV Shows,...|A talented batch ...|\n",
      "|    s10|  Movie|        The Starling|      Theodore Melfi|Melissa McCarthy,...|       United States|September 24, 2021|        2021| PG-13|  104 min|    Comedies, Dramas|A woman adjusting...|\n",
      "|    s11|TV Show|Vendetta: Truth, ...|                NULL|                NULL|                NULL|September 24, 2021|        2021| TV-MA| 1 Season|Crime TV Shows, D...|\"Sicily boasts a ...|\n",
      "|    s12|TV Show|    Bangkok Breaking|   Kongkiat Komesiri|Sukollawat Kanaro...|                NULL|September 23, 2021|        2021| TV-MA| 1 Season|Crime TV Shows, I...|Struggling to ear...|\n",
      "|    s13|  Movie|        Je Suis Karl| Christian Schwochow|Luna Wedler, Jann...|Germany, Czech Re...|September 23, 2021|        2021| TV-MA|  127 min|Dramas, Internati...|After most of her...|\n",
      "|    s14|  Movie|Confessions of an...|       Bruno Garotti|Klara Castanho, L...|                NULL|September 22, 2021|        2021| TV-PG|   91 min|Children & Family...|When the clever b...|\n",
      "|    s15|TV Show|Crime Stories: In...|                NULL|                NULL|                NULL|September 22, 2021|        2021| TV-MA| 1 Season|British TV Shows,...|Cameras following...|\n",
      "|    s16|TV Show|   Dear White People|                NULL|Logan Browning, B...|       United States|September 22, 2021|        2021| TV-MA|4 Seasons|TV Comedies, TV D...|\"Students of colo...|\n",
      "|    s17|  Movie|Europe's Most Dan...|Pedro de Echave G...|                NULL|                NULL|September 22, 2021|        2020| TV-MA|   67 min|Documentaries, In...|Declassified docu...|\n",
      "|    s18|TV Show|     Falsa identidad|                NULL|Luis Ernesto Fran...|              Mexico|September 22, 2021|        2020| TV-MA|2 Seasons|Crime TV Shows, S...|Strangers Diego a...|\n",
      "|    s19|  Movie|           Intrusion|          Adam Salky|Freida Pinto, Log...|                NULL|September 22, 2021|        2021| TV-14|   94 min|           Thrillers|After a deadly ho...|\n",
      "|    s20|TV Show|              Jaguar|                NULL|Blanca Suárez, Iv...|                NULL|September 22, 2021|        2021| TV-MA| 1 Season|International TV ...|In the 1960s, a H...|\n",
      "+-------+-------+--------------------+--------------------+--------------------+--------------------+------------------+------------+------+---------+--------------------+--------------------+\n",
      "only showing top 20 rows\n",
      "\n"
     ]
    }
   ],
   "source": [
    "df_netflix.show()"
   ]
  },
  {
   "cell_type": "code",
   "execution_count": 7,
   "id": "f52b01e8-8df9-4e81-8f9b-a4d08ec8a1c9",
   "metadata": {},
   "outputs": [
    {
     "name": "stdout",
     "output_type": "stream",
     "text": [
      "root\n",
      " |-- show_id: string (nullable = true)\n",
      " |-- type: string (nullable = true)\n",
      " |-- title: string (nullable = true)\n",
      " |-- director: string (nullable = true)\n",
      " |-- cast: string (nullable = true)\n",
      " |-- country: string (nullable = true)\n",
      " |-- date_added: string (nullable = true)\n",
      " |-- release_year: string (nullable = true)\n",
      " |-- rating: string (nullable = true)\n",
      " |-- duration: string (nullable = true)\n",
      " |-- listed_in: string (nullable = true)\n",
      " |-- description: string (nullable = true)\n",
      "\n"
     ]
    }
   ],
   "source": [
    "df_netflix.printSchema()"
   ]
  },
  {
   "cell_type": "code",
   "execution_count": 8,
   "id": "e2652297-4aef-47c6-8265-fe6d9da23f06",
   "metadata": {},
   "outputs": [],
   "source": [
    "from pyspark.sql.functions import corr, col,count,when\n"
   ]
  },
  {
   "cell_type": "code",
   "execution_count": 9,
   "id": "64383f29-ed8b-47d5-81d9-ee22a82b526b",
   "metadata": {},
   "outputs": [
    {
     "name": "stdout",
     "output_type": "stream",
     "text": [
      "+--------------------+-----+\n",
      "|                cast|count|\n",
      "+--------------------+-----+\n",
      "|Suliane Brahim, S...|    1|\n",
      "|Fatih Şahin, Ece ...|    1|\n",
      "|Chris O'Dowd, Kat...|    1|\n",
      "|Nkem Owoh, Mara D...|    2|\n",
      "|Nancy Isime, Jide...|    1|\n",
      "|Katharine McPhee,...|    1|\n",
      "|Shun Oguri, Mirai...|    1|\n",
      "|Miranda Cosgrove,...|    1|\n",
      "|Pierre-Alain de G...|    1|\n",
      "|Millie Bobby Brow...|    1|\n",
      "|Ronwaldo Martin, ...|    1|\n",
      "|Paris Berelc, Isa...|    1|\n",
      "|Amber Stevens Wes...|    1|\n",
      "|Megumi Ogata, Kot...|    1|\n",
      "|Madeleine Sami, J...|    1|\n",
      "|Donnie Yen, Nicho...|    1|\n",
      "|Will Friedle, Dar...|    1|\n",
      "|Sofía Niño de Rivera|    2|\n",
      "|          Snoop Dogg|    1|\n",
      "|Zeenat Aman, Pran...|    1|\n",
      "+--------------------+-----+\n",
      "only showing top 20 rows\n",
      "\n"
     ]
    }
   ],
   "source": [
    "df_netflix.groupBy(\"cast\").count().show()\n"
   ]
  },
  {
   "cell_type": "code",
   "execution_count": 10,
   "id": "08336cc6-ac23-4524-a051-db10661b5f49",
   "metadata": {},
   "outputs": [
    {
     "name": "stdout",
     "output_type": "stream",
     "text": [
      "+-----------------+-----+\n",
      "|         duration|count|\n",
      "+-----------------+-----+\n",
      "|          100 min|  108|\n",
      "|          153 min|   11|\n",
      "|           71 min|   27|\n",
      "|           56 min|   12|\n",
      "| Donnell Rawlings|    1|\n",
      "|           13 min|    3|\n",
      "|          119 min|   63|\n",
      "|           33 min|    6|\n",
      "|          165 min|    8|\n",
      "|       10 Seasons|    7|\n",
      "|           12 min|    3|\n",
      "|          204 min|    2|\n",
      "|          142 min|   13|\n",
      "|          173 min|    6|\n",
      "|           27 min|    3|\n",
      "|          157 min|    6|\n",
      "|           30 min|    6|\n",
      "|           39 min|    2|\n",
      "|        8 Seasons|   17|\n",
      "|           82 min|   52|\n",
      "+-----------------+-----+\n",
      "only showing top 20 rows\n",
      "\n"
     ]
    }
   ],
   "source": [
    "df_netflix.groupBy(\"duration\").count().show()"
   ]
  },
  {
   "cell_type": "code",
   "execution_count": 14,
   "id": "051ddbe3-86be-4660-a952-dfe2941c8294",
   "metadata": {},
   "outputs": [
    {
     "name": "stdout",
     "output_type": "stream",
     "text": [
      "+--------------------+--------+\n",
      "|             country|cantidad|\n",
      "+--------------------+--------+\n",
      "|Peru, United Stat...|       1|\n",
      "|India, United Kin...|       1|\n",
      "|Japan, Canada, Un...|       1|\n",
      "|United Kingdom, C...|       1|\n",
      "|      India, Germany|       2|\n",
      "|South Africa, Uni...|       1|\n",
      "|              Russia|      15|\n",
      "|United Kingdom, G...|       1|\n",
      "|Chile, United Sta...|       1|\n",
      "|South Africa, Angola|       1|\n",
      "|United States, Po...|       1|\n",
      "|  Philippines, Qatar|       1|\n",
      "|Hong Kong, China,...|       1|\n",
      "|  Germany, Sri Lanka|       1|\n",
      "|Denmark, France, ...|       1|\n",
      "|United States, Fr...|       1|\n",
      "|United Kingdom, N...|       2|\n",
      "|Australia, United...|       2|\n",
      "|Brazil, France, G...|       1|\n",
      "|United States, Ir...|       3|\n",
      "+--------------------+--------+\n",
      "only showing top 20 rows\n",
      "\n"
     ]
    }
   ],
   "source": [
    "df_netflix.groupBy(\"country\").agg(count(\"*\").alias(\"cantidad\")).show()"
   ]
  }
 ],
 "metadata": {
  "kernelspec": {
   "display_name": "Python 3 (ipykernel)",
   "language": "python",
   "name": "python3"
  },
  "language_info": {
   "codemirror_mode": {
    "name": "ipython",
    "version": 3
   },
   "file_extension": ".py",
   "mimetype": "text/x-python",
   "name": "python",
   "nbconvert_exporter": "python",
   "pygments_lexer": "ipython3",
   "version": "3.11.6"
  }
 },
 "nbformat": 4,
 "nbformat_minor": 5
}
