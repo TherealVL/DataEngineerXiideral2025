{
  "nbformat": 4,
  "nbformat_minor": 0,
  "metadata": {
    "colab": {
      "provenance": [],
      "authorship_tag": "ABX9TyNXL7Q0MmZX6G7m4+sPFVEQ",
      "include_colab_link": true
    },
    "kernelspec": {
      "name": "python3",
      "display_name": "Python 3"
    },
    "language_info": {
      "name": "python"
    }
  },
  "cells": [
    {
      "cell_type": "markdown",
      "metadata": {
        "id": "view-in-github",
        "colab_type": "text"
      },
      "source": [
        "<a href=\"https://colab.research.google.com/github/TherealVL/DataEngineerXiideral2025/blob/main/hadoop_libros.ipynb\" target=\"_parent\"><img src=\"https://colab.research.google.com/assets/colab-badge.svg\" alt=\"Open In Colab\"/></a>"
      ]
    },
    {
      "cell_type": "markdown",
      "source": [
        "1. pull docker image\n"
      ],
      "metadata": {
        "id": "oA8D-R2z3zqf"
      }
    },
    {
      "cell_type": "code",
      "execution_count": null,
      "metadata": {
        "id": "_OnorZpsTJ7b"
      },
      "outputs": [],
      "source": [
        "sudo docker pull uracilo/hadoop"
      ]
    },
    {
      "cell_type": "markdown",
      "source": [
        "2. Clonar repositorio github"
      ],
      "metadata": {
        "id": "i7FRrZuJ4Syc"
      }
    },
    {
      "cell_type": "code",
      "source": [
        "git clone https://github.com/uracilo/hadoop.git"
      ],
      "metadata": {
        "id": "FfOv3xoc4UHO"
      },
      "execution_count": null,
      "outputs": []
    },
    {
      "cell_type": "markdown",
      "source": [],
      "metadata": {
        "id": "IsDvIOem4Um1"
      }
    },
    {
      "cell_type": "markdown",
      "source": [
        "3. Crear red para el cluster de hadoop"
      ],
      "metadata": {
        "id": "hOFZgoO44XeN"
      }
    },
    {
      "cell_type": "code",
      "source": [
        "sudo docker network create --driver=bridge hadoop"
      ],
      "metadata": {
        "id": "Scp0WXvM4i5F"
      },
      "execution_count": null,
      "outputs": []
    },
    {
      "cell_type": "markdown",
      "source": [
        "4. Inicializar el cluster"
      ],
      "metadata": {
        "id": "j7jOkrp24k2F"
      }
    },
    {
      "cell_type": "code",
      "source": [
        "cd hadoop\n",
        "sudo ./start-container.sh"
      ],
      "metadata": {
        "id": "NA_X8gU_4rXv"
      },
      "execution_count": null,
      "outputs": []
    },
    {
      "cell_type": "markdown",
      "source": [],
      "metadata": {
        "id": "3DZcKD324xkl"
      }
    },
    {
      "cell_type": "code",
      "source": [
        "5. Iniciar hadoop"
      ],
      "metadata": {
        "id": "c-AENG6y4yGd"
      },
      "execution_count": null,
      "outputs": []
    },
    {
      "cell_type": "code",
      "source": [
        "./start-hadoop.sh"
      ],
      "metadata": {
        "id": "kcGCT84Z40r9"
      },
      "execution_count": null,
      "outputs": []
    },
    {
      "cell_type": "markdown",
      "source": [],
      "metadata": {
        "id": "_lhMGKaj42E0"
      }
    },
    {
      "cell_type": "markdown",
      "source": [
        "6. Un archivo txt de un libro"
      ],
      "metadata": {
        "id": "FFv7HjW0438V"
      }
    },
    {
      "cell_type": "code",
      "source": [
        "wget https://www.gutenberg.org/cache/epub/75306/pg75306.txt"
      ],
      "metadata": {
        "id": "4DHqTyZh48KV"
      },
      "execution_count": null,
      "outputs": []
    },
    {
      "cell_type": "markdown",
      "source": [],
      "metadata": {
        "id": "oMryGRbZ5HON"
      }
    },
    {
      "cell_type": "markdown",
      "source": [
        "7. Crear un directorio"
      ],
      "metadata": {
        "id": "VoTzAXSR5Hk7"
      }
    },
    {
      "cell_type": "code",
      "source": [],
      "metadata": {
        "id": "VVcgckzZ5MgO"
      },
      "execution_count": null,
      "outputs": []
    },
    {
      "cell_type": "markdown",
      "source": [
        "8. Crear un archivo tipo tar.gz"
      ],
      "metadata": {
        "id": "M1E1UTat5Mz9"
      }
    },
    {
      "cell_type": "code",
      "source": [
        "tar -czvf input/pg75306.tar.gz pg75306.txt"
      ],
      "metadata": {
        "id": "kvSbsD1M5O-O"
      },
      "execution_count": null,
      "outputs": []
    },
    {
      "cell_type": "markdown",
      "source": [
        "9. Revisar los tamaños de nuestros archivos"
      ],
      "metadata": {
        "id": "GWpXfq2P5RqF"
      }
    },
    {
      "cell_type": "code",
      "source": [
        "ls -flarts input"
      ],
      "metadata": {
        "id": "_7ziwd2x5WNl"
      },
      "execution_count": null,
      "outputs": []
    },
    {
      "cell_type": "markdown",
      "source": [],
      "metadata": {
        "id": "qUeV-wJU5X4c"
      }
    },
    {
      "cell_type": "markdown",
      "source": [
        "10. Crear y mover directorio input al DFS de HADOOP"
      ],
      "metadata": {
        "id": "nASfmWQR5ajc"
      }
    },
    {
      "cell_type": "code",
      "source": [
        "hdfs dfs -mkdir -p test\n",
        "hdfs dfs -put input"
      ],
      "metadata": {
        "id": "1SDtQHcr5bct"
      },
      "execution_count": null,
      "outputs": []
    },
    {
      "cell_type": "markdown",
      "source": [
        "11. Revisar nuestro input directorio en HADOOP"
      ],
      "metadata": {
        "id": "NwddFYUB5lZE"
      }
    },
    {
      "cell_type": "code",
      "source": [
        "hdfs dfs –ls  input"
      ],
      "metadata": {
        "id": "LvtC7bYt5nzE"
      },
      "execution_count": null,
      "outputs": []
    },
    {
      "cell_type": "markdown",
      "source": [],
      "metadata": {
        "id": "49wpGVD35qG8"
      }
    },
    {
      "cell_type": "markdown",
      "source": [
        "12. Leer las primeras lineas de nuestro archivo en HADOOP"
      ],
      "metadata": {
        "id": "gk711fzO5k79"
      }
    },
    {
      "cell_type": "code",
      "source": [
        "hdfs dfs -cat  input/pg75306.tar.gz | zcat | tail -n 20"
      ],
      "metadata": {
        "id": "QKPTOcDn5vrE"
      },
      "execution_count": null,
      "outputs": []
    },
    {
      "cell_type": "markdown",
      "source": [
        "![outpoot2.png](data:image/png;base64,iVBORw0KGgoAAAANSUhEUgAAAsQAAAFGCAYAAABtxYnNAAAAAXNSR0IArs4c6QAAAARnQU1BAACxjwv8YQUAAAAJcEhZcwAADsMAAA7DAcdvqGQAAGwTSURBVHhe7Z1NiFXJlu8ja+LHwK6aVOEXrfRrEC0QX43qdoG2OihovG9QKI2ggjp5NAWdo2c5EPWCVTXptnHQk6yGUlAoEO5TLs8Lqa1QWQVC6vXyFMHO9wS/aH1gmYNSR/n2P3Kv4zqRcXasfU7kyZNn/3+wyL0jYkestWJF7Dh7R54z4pybKYQQQgghhJBG8l75l5ChY2xszI2Pj3vBMSG5OXnypHvx4oXbt29fmbK4uHv3LscGIYuUxT7/DBoDuyBGB09PT7uZmRkvetLGMdKw0MkNAuzt27f+RkEWN+vWrXMPHz50S5cudTdu3ChTbXQbY1Xxs337dvf48eNWTIdxPR8Mmj5kcEBsYGycP3++TMkHxo2Oq1h8xeIPc354c6+6Fwi6LsQ7bOuE1g3X4FpiB/7CfNLERdhisl2Pm9i4GlTknlU1luuM97pgy0RfpZjQZopJKZoHKYydKYz15XBedKQ/x18pk6qjFymcOzM5ORnNa6LMp6/nU3788ceZ0dHRmYmJCR9TsTJV0q3dneIHdS2EHwdNn/mUxRqrOaSu7cWN3V8Ty+tVLl265OOuKg1jEjroeT0UlC9u5q3rUPbFixdz6ta2xO4XELmvoKxOrytNjjGIpd8GSXL2Vw7b+x0/i6m/oKMe3+G5iGW8dyMD+YR427Zt7j//8z/d4cOH/fm5c+f8+V//9V/7c0KqKAaK/+T4N3/zN+6f/umf3G9+8xt39erVgXj6iSfWg8Sg6UP6Q3GDmbenw+C3v/2tO3bsWHk2+7Tqr/7qr9z169fLFBuoY8WKFa26cC+4c+eOW7VqlT8HsGVqaqrtfnHlyhV34MABfy4cPXrU3b9/323atKlMIYQMEhiz//N//s8s470b/IJYFhB4rD46Otr2GksvIqScSLFKL3PeUVUGkyLaOHTokNuxY0erTPjIG8a/fPnSHxefpHyZjz/+2J+HoP5YWwB1yqP3WDuCrgP6aecLvdoubVy4cKHNvzguPsGVpaoRe7BnCBLWp9uz2i7+FZmYmHCXLl3yedb+gv7aJgjq1YhvUjEGRKewDisYKND33r17Xk/8xbkMoLro+Ij1u86PxY/YDh3gy051VfVFHQZNHwthvGLCgz6IwVh+GIPWWM2FtIc28Ff0FERfxDlsEX20j6WfquYE6SsZC7pdGTfd2P7FF1+4f//3f3fXrl0rU+rNUVIWAt3kPBzLwtatW92zZ8/a2gN/8Rd/4c6ePdtWVxWwdfPmze7p06dlyuz9Yvny5eXZLMj/4IMPyrPZOWrlypXu+++/L1PqY/Wz9H2nfCD9ivpS82GKVF/omNGS8vV8YdUn9OOgzwkpcsaP9iH+ik8WAtEXMdxprrOyc+fOtvs0xu369etrj/de8I+Ki4b9Y2dQDKQ5j5KLYPX5KKfTCqNrlYGgfqTrNC2SXzh6pnCwrw+vfHGuywBdD9rRuhdBMnPixIm2c+iHv5KGa3QdaKPo3Np2WcsArSOO9XUoH0PKQPdiAPjr9DHycK3Yhr8p22GrfpWOOlAGekoaBPWHaVrQrrZJ0sJrpH4Qltcifoq1KXWgj3Q8hCL+gA/wF+exclUCHUM9QltDO2PxI4Jyney29kVKBlGfGKhL+gQ6II51bKIdnWaJZwjqqqtjLyJxFuoBQRps0PqgrPY58oBOw3Hon9AmnOtrILFyMUHfyrwa5ln0CWMM56nxGM7fnST0jwjSQKydmN1h/KIvUPfp06d9HUDbVEdi7WlBW5ZYRdtIBzGbLWLpC7SL7WNyjra6tR2C69BOaI9VLPogbRDnhF5th6T0sdoFsejTq864NobuM9Sdmuu6kVgdMf+F471badsy8erVK7d///45T9IKo92yZct8nv6Ej9X8mzdv/CcES5m64JMArg2fKgh4DY76BTyBCMGn76LvvJw9e9a/fhOKTvRPonUdeFT/7bff+nZBbtuhs/Yvjm/duuW3iQC8zhsZGZkja9asadX96NEj/6rzyZMn/rjTP4xV2Q5gK16bShnoBk6dOuX/WoAP165d6z/1Sj2QjRs3ug0bNnjfaDrFmAZ+g826X4QzZ8741yO4/r//9//ufVsMkOhTrBxUxZglfqzk6otB0gdY4nnLli2uWKj4V18CbEC86rRUPA8iGJ/aZ7E5KjUn5Cb2dFhTpQ9iDGibvvzySz/+OoFrEEuW7RIXL1708RACHRA3+Cvjvg7Yboen0bt27WrVhXkE88l8YI1Vy3zYCWtfYAx99tln/rhYSLjPP/98zr2qn1j0GeY5wcIg2WWZw4FlrrOCezniGHV0Mza6ZaC/dk0cgaD4r//1v/q9oFbg0OPHj/tBJR2I1xTotIUktmcTj//D19q9UMf2MNixx67uTQL1on5dDyQcMDmAvogLTIr/+q//6v7H//gfbs+ePe6rr75qtYUFMm7qWJRjYYe/OEf6IJOjL3IyKPoM6ljORT/mBAELydTe4br6YNz98ssv5dlcOm2X6AYZ93/3d39XpsRfl0JX2XYHZDGODwKyoIIPoHfOD9ILHatVfXH37l2/bWQ+5uVu6EWfYZ0Thn2us4A56n/9r//lP7DqhzuCZbx3i2lBjGB9/fq127t3b5kyi3xKx6LDUqYTWKhMT7/bB6MN1jflmHM6sXr1ardkyRL34MGDMmX2nyrwNFPAxIgnu/ppAwLy4MGD/qYBctuOxZvYCXCMSSHnP7dYbAf4dA7R4GaY+mSn+ws+RHnUr4Ht2E/Uzc0GOuFDUKhbCPwKO8OnBlgwYxL56aef3L/8y7/4p1uIn9yfNC3xY6XbvtAMmj5Wbt++7XXUsYLYwj552GKN5xjh3DKIpOYEzIfYRyf+gU2I7xQx23/zm99UPh0GVfrIONNzHdrp9D8eAE/7MBZDEF9YFAlo5x//8R99PAhhGYlnffPDPID5V3RGmU8//bRtvzDsxQ0W6QKeeGNchL5Am5h/dLtVaD/3Equd6KRPnb7AtRi7uJ8CjKvJyUl/vBCk9GnSnDDf8bOYQKxjDsC9Wu7XSIOPBMt475qiMr8XJCTchxQrV3Ri274US5lYORwjLcwvnODPcX0xgFplkC4gHWmF08qUd3s+dTmAfXOoV9uGuqGjBl/ThTKiV6gv6MZ26CV1C6GfqwTl5FrUPTo66tvUx1KfxXbtMwFlxM8ioW2xMugHjbY95hvQyXbRS/qxG0G92FMEP3RTjzXGLPET9oWg9dJ1CzE/p2TQ9LFKqFMYG2F+LJ4hYazNl85hvAvSHnSCbkDGgvap+Bp/LXOCbg9t4Bqg+yxlO3RAPVX+sOgTawf1hjpDUm1qnwD0c6qMtllE+xvE6oHouvQcFSsDvcM8SMrPqVgNrxdi/Q6p0sfSF6E+Qif7UoI2cW3Mdxax6hOWC/2T8rOUS/VXHenVdkhKH4td0CGGrstSJodAJ+gGqua6lIR+0cAnuqxuE4T5PUg0ccEFTpUbexjgi1UQGBk7jlIh8DP8TZ9TBln6GZ+WtrrVBx8+h2GOHgaZ777AwqXXReFilSbb3gQZ2D3EeB2EV+F41Y1XCHrbASEp8LoFW2wgubdKELIYma+xUCwO3EcffdT2mpcsDOwLQnojulKm5BX9+mJYnnhTKJTuZdDmhDr6cD4bHGFfUCh5ZKQ8IIQQQgghpJEM9NeuEUIIIYQQMt9wQUwIIYQQQhoNF8SEEEIIIaTRcEFMTJw8edJ/KTr+i5kQQgghZJhoWxBv3z77+9EzM7O/oQ0ZU78Q0i+w6Jqenvbt4+9CLsJgP/QYH6/+1bSFBIvVt2/fmn9Zqd8sBh+S+WVQ5hbSG00ay4M2r1IfQuaf1ldO4EvZITptIWVQvgS7uAkMlF9iUkxO/gvZY3n9kJSPFoMPh0Hg405gLMWu6YdAr370P+Ns/qVJPl7oeTUU6kOhzJ/M2TLx8OHD8ogQstjAjy9cvXrVfffdd/5HbUR+97vfuTdv3pSlFgbOLYQQQgYVvyAuPvH712A7duxwhw4dar3S1K9CpAy2MIyOjra9/kQeiL0WHQ9erVnKWIBuuFa2VOh6677CQftan4mJCXfp0qUy9x3SZqwNeX0k+ThGmiaXD4HWBfWtWrWqzLEhNms9Yz5MbV+RfMQN4kd0itkPqnxoIeVnyYcdU1NTHdsSPcSmTvEjfRarx9pWrpjvhsnJyWg/VNkFLLFqQeqpmltAr/pY4xD1Sj1V/Z7CUo+l3yWGJD/UF6RsF6zzWC7EB5DQdzliXuq/cOFCW104Rv2C1T9STiTUGWibUJ+eV+V6sUNiDmm6HRD2K+YH1I1rgNU/VfpYScWY5EOfqnkM5NCHkEGm9bi4GJD+dZhO01IM4pli0BRjYSZarhgsc9KRhnrrlBFBe8grJpE5ecUgnnnx4kVbHo6RhjxdtkpQVr/yERu1PtAXVNmBtk+cONF2jnpC3XP5UJ/DhmJC8+mSlhLtK7ke7Yp+oQ5VfQFB+VgfiiAfVPnQIhY/47iYrCvbgs2p+MH1qBu2SxmkaT9b2orZiTR9TU5BvQL6VezR+Sm7IKlYrSOov1MdOfVBOq6N5UEs/W4RSz2Wfsc1OeYNtJmax3IJ2ge67tBWi+0WQXmg68JxGC8p/6Ce8BqkQSc5D/WDT8N5FXWHNuA81A9zgu5DlNFpFv9Y9LGIJcZwbJnHcuhDoQywvDtBsIeDVAsmEwS/HkgiMqBiyERkKaPrrGoPAn31AMVxN4MT12hCXeAT3Q4k9FXMNj0BiuTw4Y8//jjn2vCGmBLUhTphA2Rqaspfj/qRXkdvSMxHWiw+tEjMR6GfcQxddR/G2kKa1gnHEj+4dmJioq0OEfgJ/sZxqq2YvkIs5nOIbl/rCrHaBUGZqj6vI1onLbn1QRu6T2OCfF0Gx9LvdaSqHmu/x8qF8Qyx2I58zXzFV8zHOJ+PmA99LHLp0iVzbCAvFWO4zjKvpmyHhHEbisU/Vn0sEmsvjDEcw3/aR2Gf5tKHQhlUyfq1a48ePfKvK/XeRciaNWvctWvXzGWsfP/9927Dhg3+NRRk8+bN7uLFi2WunU2bNrXpcv/+fXfmzJkyN00xibjjx4+706dPt+qAjbC1Ljn9UwXqgp3r1q1zW7ZscZcvX3ZLly51u3fv9vlPnjzxfweJnH4GueInRb/6NMYnn3zijh07Vp4RkKvfU/Wk+j13PPc6j+UkZ8zH9p4vX758Ub+u79eckDvGCBlmsi2Iz5075549e+aOHj1apsxSfIL0+5IwMC1l6oD6rly54g4cOOCOHDninj9/XvvmX3wKnrN3CxMw9LSyevVqt2TJEvfgwYMyxXkb165dW57ZsPpw2bJlbXvAkH7w4EG/oK0D7MQNHddhryHa3rVrl7+R9jopj42N+T1mWCjkIpefhar4gf2vX792e/fu9eeC+N0aZ3VjHrE402H/Xg5y2ZWL+dYnFoc55g1QVY+l33PGs3UeQ7uPy72r8M18UDfmU+zZs6et/3C8cuVKd/78+TKlGkuMQWfLvPr06VO3fv36lg3wIRaYmtu3b/vrtJ3Q+cWLF75+i3+s+qTIeW/Kdd8hZJDxr0ViFBOsf4xcBL5/lRMS258YvrYLX81YyoT5Qux1m+gWa8cisDFEt6N9A73Ca8RHoQ+Lic3XIz7K6UMcI02DV4KoK+ajTiL1iA3QA3XAFilj7YvQPp1v9aFFUn4WG4D4raot0TsWP6FNQJer01aqT0XkevFTXdHtA90PIim7YvlAfKzrSknYX4L2TU59wrI4Rpouo8t16gerpOpJ9XuueSPsdxCzXWJW+7+O1BnL1pivEtQnc5ugbbf6J1Yu1AfHSNPE5lVtF9JRBmjbw34N9QnrAd3qk5Jcc2YufSiUAZZo4qISTCx6MqJQ6gjjp5mSq98XU/xAz3DhNcgCfbGgi+VRKBRKTsm6h3ghKD7dug8//NDv5yOkLoyfZpKr3xdb/GCrwc2bN/0rcEIIIe1EV8qDLLHXX3hKEytLoYTC+Gmm5Op3xk9/BD4VYlsOKBQKJaeMlAeEEEIIIYQ0kkW/ZYIQQgghhJBe4IKYEEIIIYQ0Gi6ICSGEEEJIo6m9IMZ/VeMLxvdl/MGFXhg0fYaZ8fHxefvBCEKaDOcxQghZWKILYkzOb9++XdSLHyzeZubx15hyMAx+Jr2zGGJ1WBBf4++wgLgZNJuwsJ+envZ64e9iWOgvRp2bzEKM5e3b3/3Sowjn7eFizldPQIrF2szk5GQ0r1fBF60XQRzNyyloA23F8urKfOncjZ+hR8iwfC1RLj+jHg1+UQlf41Tc5KLlO8lijNVeBP7BDzcIiCv8shV8h3z8leMcgphFGyHQoW5fWaVffZpTUjoPqk34irpuxt1CymLUuV8yaHHWb33Q1iCOM0oe4R7iRcjOnTvd1atX3XfffedGRka8HD582P+ufDGJl6WaSzFJus8//9zt2LGj5Z/333+/9u/3N5U///nPPrYQY3/84x/dmzdvfPqlS5fc0qVL3cuXL/15Do4dO+Zj9969e2399cMPP7gjR46UpQghZDB4+PBheUSGjdaCuPhE3HoFgNdFq1atKnNmwULL8jqp+PTUqgcyMTHhb6RA6jh06JC/+UkZbBvA9gEBCxqko+zo6GjbKwrkAas+QNuGuvDaA0g70BnoOsN2UjqjzvBVitSrSfm5W/DLU/fv33dbt2715xYfAiknAv00Wl9IaDew2o7rcL2UmZqa8vXDx1Y/p4Aun376qfvqq6/ctWvXylTnNm3a5FasWOH91M9+F5tRBvZKmdDPgvY3rpFYBRY/W/tdt4M65Bzx89lnn5WlnPvtb3/r9f7555/dtm3bOurdCWtsxHj27Fl5NEsqVoGlDFi2bFmbXqFOONf16HnMglyv40X7QvTSsYe/ONfUHRfSj7qNulT5sG48VyG6it0x/1gQnUSXTr7JRa44TMVYL2NHsPZXqi1LHFpjHqT8I/los2oeA6mxbMGqD2yHDzqVI4sf/3qoCKLWY+MimP1rTKRLmkgR4B1fJ+E6/fofZYtAnfOKoQiu5GsHuRagfKwMpEoftAF0W6gL9eI6OQ91wXnYZkpn6BBeE/o1PK/yc0pCHWN+SPkQdWhfSFqVPsWEPWdrBsqnbEd+Mbm16Yf8MA3l9HV1BXX9+OOP0TwtsXZwHtqR0sdiO3SCnTotvA55QJdBvu4fS1uQVL+H1+AccSj9imsEjGfoDiluTL5eXTYlFp3FP5pYXKZi1VIGAn0kHX91HsQ6j1UJbHrx4oWvCwKfoV2pK/QJ0qGPHgtaROdYHgT5QJdBfWE7KcH1KR9a4lmkyi74BT7SedpvumyV4JoTJ060ncOGWJsWqdLZ4h9LGUuMxXyKNF3GIrAj1V/WtlCmU/toxxLzuD7lH4hcB0LdRESfbvwiYtVH0jvpQln88l4RxP4VKF7DC3iN+e2337ZelVrBdXilWsSvF7xyBadOnfJ/6/Lq1Su3f/9+/0q1W6CDtg114Unq3r17y5TegQ/xOl5/coRs3LjRbdiwwX9KzulnQbcHO/EUD09ANZ18CJ3wyRp5+kkq9IM+xYRWplRjsR1s2bLFnT59uk0/tCVPbeeLYvJq06uY5Mqc3rHaDh49etQ2DsKnn6AqVuu0BTr1O+oBWpcvv/zSP2ERcI1sXfjkk098H0H++Z//2a1Zs8YtWbLEx26Kuv7B0xdp98qVK+73v/+9r8MSq5YyGrQF3b7//vsy5R055rEnT574J2V4AwSBfzEGVq9e7fNv3Ljh/+YkjJ9YjFVRx4eWeE4BP9+5c8cdOHCgTHH++Pnz56b40uApovTX2bNnfbzmJmccpmKs7nhPUdVfudqyxHydGAOWNUDVWE5RVx8y3GTfQ4xX03JTg+CGfubMmTK3/8T2+/z666/u6dOn5Vkewhu6CBYQeqDlRO8hhlRNGvPJQthexQcffNCaxGVxB/2wT/Wbb77x6bnIaXsqVufLz7j2l19+Kc/y0q3O6LebN2+2tgDlBgsQ7FP++uuvozf8Xucx2IZr1q1b5xcFly9f9gug3bt3+3wsHojzixgsurAog2zevNldvHixzE2Dvjt+/Lj/sC19hXhD3A06qRjr57yao62FivnUWCbEynt4OodPSPqTEIIK/6CFYK7D+Pj4nP07uMmnnh7gKd50uY8sN6hT24ZjTETXr1/351hsrF+/vjWQoAsmhhRaZ/gQNh49erTMnQVtYd8W6s7p5xxg8nr9+vWcJ+Win/UJjcV2cPv2bW+rnAP4Dt+9qn0SUjc2OukT0q9+r0NVrOZqC/UA3e+w6eOPPy7P8tGLzvAFFkfoJ0usdhPPWHTjSXS40O12HgvBNVjsYXxjbyiu37Vrl180WBcZnag7LizkmhPqgBhBH+DJMP6Jsu7TYTx9xBuLBw8elCnOxxueGOYmZxymYiz33FJFL22FcZiK+fmKsU5jOcVCxDwZbFp7jDT4mirsAZK9NdhPE0PvvSkGeJn6Dp0vgnOkC7pMmCdAlyJIW3Wk9JF87HnVtuEY9ko9YV24HrYD2CNlqnSO1QPCtix+1vV1ktDP4bWhrkLow1i5mH+0xPYQQ1K2Q4rJs8ydJdQHEupUxy9aYvGB9juVQTvz0e+wD3bqdN1/OJbr68Yq0GVi/QlS/Y5j1Bvr1xxi9U+I7q+YbaF/LGXE99LHWjdJ0/0joN6w31OCdtG+1Cu2artC3whhe7E+k3w9rlAf0rQN0r5FUj60xDPKWe3SbYZ9ZZVwXikWcb6+MO5TYtE55R9rGe0zQbcjEupU10fW/oJY2gptC3VGeVwn9cZiPuWfWD4I+1PskLa0/tqulKT0gYQxJtRphzL4MlIeEGICn/r/9Kc/8ZPzkDE5Oen+8Ic/sF/JglAsZvzTROzdJISQhYDfQ0zMFJ+k/St8Mlzs27fPffTRR22vnQnpFydPnnQffvhhV/8URQghOZnz2JhCEQlfo+lXX5TFK7pf675aplB6ldhrasRkrCyFQqH0Q7hlghBCCCGENBpumSCEEEIIIY2GC2JCCCGEENJouCAmhBBCCCGNhgtiQgghhBDSaLIuiPH1TdPT0/530PEX54QQQgghhAwyWRfE+AnIFStW9O235MfGxub8/CVZGNgXhBBCCFmscMsEIYQQQghpNO/pbQ4Q/DSvPtdP/fAUUNIh+LnNOsj1UqduG3kAv1r09u1b9/jxYzc1NRVtS647dOiQfxotZXAdrhfwy2qoR/Ih4VNMSxnRG22Ojo62lRe9raBuuRYyMTHhfQ4s/oEfcH7hwoU2PXAMW6xlBGlTJOzTlO3WviCEEEIIGWT8r1S9ePFipljctH6xo1gYzRQLs9Y5jovFkP+FIZ2GcnIugjJI1/WJFIuotnohOEe6nOO6YpHVVg716TKQWF1aYteEdlnKQGAT7AdheavAz5OTk61zqVO3FbMJ57pNnId64Fj3j7WMpU8ttiMd18byKBQKhUKhUAZZ/JaJY8eOuefPn7sDBw7gdM5vyxcLIrds2TK3f/9+d+3aNZ8Gdu7c6d68eTMvTwKxB/nUqVPlmXPPnj0rj2zgyeXatWv9k8tiHdeSjRs3ug0bNnibLGU0r1698j44fPhwmVIP+Hnp0qWtdq5everTtZ1WcK3WA8e3bt1y27ZtK1Oqy9Tt015tJ4QQQggZVFp7iC9evOg2b97sF4lffPGFu3Pnjv8nucUMFtV4jT8yMtIma9asaS0CLWVysmnTprZ27t+/786cOVPm2nn48GF59I7ly5e7VatWlWe2MoQQQgghTae1IL5+/brf93n8+HH/1PSnn34qc5xfGL5+/drt3bu3TJlFniLiyaeVp0+fuvXr17eevo6NjfkFaQ5QF/azYlGPxTyeKh89erTMnQU6Y28y2reUycn4+Pic/clYtOqn31b/7Nmzx9sp4HjlypXu/PnzZUp1mZx9GkP3hQb24+n43Zr7zwkhhBBC5pPW/gnsAwXhHlJIsUBr7SMVsM+3WPC0yuC6GOE+VV0OeRMTE/4Ye1CLBdlMsTD351I/0gUcSz2hTmE7YVsg1DlVJmY3gI7QVdeTEm2HkNI59I/UgzTxEwj1sZSJ2dat7WHZmF0Q8QFsDPMoFAqFQqFQFkJGygOyiCgWlf7JctV+XksZQgghhBDC7yEmhBBCCCFk7mNjyuCK3k4R27pgLUOhUCgUCoVCmRVumSCEEEIIIY2GWyYIIYQQQkij4YKYEEIIIYQ0Gi6ICSGEEEJIo+GCmBBCCCGENBouiAkhhBBCSKPhgpgQQgghhDQaLogJIYQQQkij4YKYEEIIIYQ0Gi6ICSGEEEJIo+GCmBBCCCGENBouiAkhhBBCSKPhgpgQQgghhDQaLogJIYQQQkij4YKYEEIIIYQ0Gi6ICSGEEEJIo+GCmBBCCCGENBouiAkhhBBCSKPhgpgQQgghhDQaLogJIYQQQkij4YKYEEIIIYQ0mgVdEI+Pj7u7d++WZ4QQQghZ7Jw8edK9ePHC7du3r0whZPDhE+IhBB80ZmZm3NjYWJlC5gvxNf6Szmzfvt09fvzY+0qE8bmwYNHy9u3brh9KsE8XHiw4p6enve/xlwvQanqNeTL8zBQ382I8tVMEzUwRPDPIX8xSTNDevlheHUE9momJiZliUM0UE1C0fCfJpU9K0AbaiuX1U+CfYqIuvTYbV1NTU953yMdfOc4hiFm0EQId6vaVVfrVp4tZ4J8qH9GH1TJf/sF4mZycjOalJNWnlP5J8eGkq/vRIMsgxjxluMU/Id65c6e7evWq++6779zIyIiXw4cPu4MHD/ITZ0ExMN3nn3/uduzY0fLP+++/79auXVuWIFX8+c9/9rGFGPvjH//o3rx549MvXbrkli5d6l6+fOnPc3Ds2DEfu/fu3Wvrrx9++MEdOXKkLEUWgocPH5ZHZFhgnxJChoWOWybOnTvn7t+/77Zu3erPsSicKV/LjI6Otr0qQ54g5USKT61lziw41/l4fYHXGJrYq7jik2KZ+w5ch+ulzNTUlK8fi3gIdD106JBfGEmZWHtVQJdPP/3UffXVV+7atWtlqnObNm1yK1as8H4Sm0VHaRtp4hurPinbxWaUgb1SJvSzoP2Na1C/YPGztd91O6hDzhE/n332WVnKud/+9rde759//tlt27ato96dsMZGjGfPnpVHs6RiFVjKgGXLlrXpFeqEc13PxMSE/0BQhzDeY7Fs6a9efBiS8o/kI+YR+2G5hRoXKUJf67kF5PJzqk9z+UeADZKPeletWlXm2En1KbD4B0g5EalD/IJ9qBDkXbhwoVVPN/2aGoMpH+p5HYJr9bmUtfSFxT+p2MiFxIT2LwTHsEWw6Kx9hL8yXgSxCdd2GqeDGPOkOfhHxUUgtb1iL4JtzisYpBUBWMTVTFtZEdSBfJTTaahHl9NSTCpztmagfFg/0lCXnCO/CO42/ZAfpqGcvq6uoK4ff/wxmqcl1g7OQztS+lhsh06wU6eF1yEP6DLI1/1jaQuS6vfwGpwXk1erX3GNgFdV0B1STKq+Xl02JRadxT+aWFymYtVSBgJ9JB1/dR4EtulXdOLPWNkqgV0nTpxoO0c9+KvLWfor5UOLoLzFP5Ie00VEfBjLg1h0towLi6A86tF+RZ1hWg4/oz5Ln6KeXv0TniMuMfaQLml1BHXF7BZJ+QfXV8UPfACf41p9jPIoE/qoSixjEHWmfIh6igV6W9thGUs9kJR/0IYlNiDd+EQLdAv1wHHYPymdRar0QZplnOI89JkWi5/D815jnjL0MnsgA0ITBltVkCMP+2r14BHBRIRADNMh4YJYBksMPTir6tSSGlQpgT56QYz6NDKwYu3gPPRhlT5W21EO7Wpfh23hPNaOlLO2BcFxp36P6YLj4tO/qX/qSC/+gc24FnlIT8WqpYyco24g9euyItBHE/rYIjH7Y22i3qr+svgwJXX8AwnjMxTkxeIVYtUZ5cJ+T7UbE+vcgnZ69XOsXKxPe/UPysQ+2MNO2BumWyTl2yr/IC8VP7hO+lPXVVVvleAaTaofhHBcoB7pC+ipF8h16knZEasrFhuQbn0iAnti8RXen63tVJVDGvK0L2KxNIgxTxluadsyofcQQ7AXcyF49OiRf1WidYGsWbOmbdtCv/jggw9ar47gE+gC/bBP9ZtvvvHpuchpe2x/36+//uqePn3qj+fLz7j2l19+Kc/y0q3O6LebN2+2tgDlBvujsU/566+/bnvNKGCLjdYX25HOnDlT5qZBncePH3enT59u1QE/wB91GbTxZWEYdW56n/ab1Bi0+vDixYtu8+bN/tX+F1984e7cueO3zgk5+iJnbFiJ3S+WL18+sFsMGPMkN9m+dg0B+Pr1a7d3794yZZbi05j/i392soCJBXs9jx49WqbMgnqw50gWG7dv3/b/9KcXH5igsN9M2oxRfOqM7m3qRCd9QrDIXL9+fUsftIPBmkLrY7XdCurUvsAxbgrXr1/P1pbcCHS/w6aPP/64PMtHLzrDF7iJoZ8ssdpNPGPRfeXKlTkL3fHx8Tl723DzgS1WVq9e7ZYsWeIePHhQpjjvh7r/2Jmr33ON907M57hI0e3corHo3Euf1vUPymCfu9Yf6bAT/9jab+Y7fkJSY7BOjGH+xH5WLFjRVz/99FOZk2985RrvddizZ4+PJwHHK1eudOfPny9TFpbFHvNkceBfS2hir3aQFhLu/YyVKwK48vVKbA8xBK9UNLF6igFS5s4S24sa6hTaZpVQH4D2O5VBO3glCOBfKWPRp8p22Ac7dbruPxzL9fAtyggxH1a1FetPkOp3HKPeWL/mEKt/QnR/xWwL/WMpI76XPta6SZruHwH1hv2ekjDei4nf1yP9Ye0vSJUPrWLxT6izIL7pVFfMP9Z+l3Tt97C9lFTNLTn9nOpTKderfyA4RpoGcxTaitXXSVJ9avVPrJzoHPan/L+BPo75u5NYx6B1XIgPUD7Mg1TVY/WPJTbCdoSYbVUC/0gsCLodq84pfVBW2hCfdBqnYZsxm1L9hWOkabqJeUozZKQ8WDCKRZv705/+lP2JAFlYJicn3R/+8Af2KyGEDDjFQtQ/MV+obZKEDAIL+kt1xacz/wqfDBfFp3L30Ucftb3uI4QQQggZZOY8Np5PCV9x4LVQrBxlcYnu1/A1GoVCoVAGUzh3UyizsuBbJgghhBBCCFlIFnTLBCGEEEIIIQsNF8SEEEIIIaTRcEFMCCGEEEIazbwsiE+ePOm/xB7fNtALueohwwdjY3HB/iKEzAeLcW7hfDiYdL0gRoe+ffvW3b17t0whOcAAmZ6edjMzM61f5QmxlMkNviLv8ePHvk2RsbGxMrd3UBfqxPdhzjf9bKsJzHdszCecx8h8002MYW5aTONoscJ7AQmZ89UTVikG+szk5GQ0r0qKIGz7RRrKXMEv6ODrcIrFbjQfYimTS9Bf891n/YwLxmA+6UdszKd0O48tRlmMcT8M80I3MQY9oE8sj5JPrH2+GMcOpZ5wDzExg18yIiQGY4MQQshixi+IY688i09CvoAGr3wkH6/qV61aVebMknqVL/mHDh1yO3bsaNWF10l4rSSk6hGKT2ytOiD6lZS8poJdU1NT0TICbNX1TExM+J+Uzo3oJO2Edi8EVT4Eko/+Qr91KleF+Ffbq2MurAvnndqxxkboa8QA6grLV7VlwdKn4kPoOzo62jbWkAesY9CCxfYcY8cSG5b+qvLPrVu3vC7YbwdB2oULF6Kxk2ses2Dpd9Dr3GLtC1DVp9IPqbk3hfhO9wEEx/C/UNWnyBNy6Gzt97DP9LjI3Zb4CdJtjAm6rtDPkoc2YIPWT/vSQpV/hKr+El1SsWHR2RI/0me6rhjSHgR9Jec6DoEuJ3oAaafXsQNSOksfwN7UeCfzg3/tXgRH26NjpBXB0/G86Dj/qzZIlzSRIsArX+WjLV1XJ6mqB9cXQePL6DStD64rgm6OHdpW2KFfZaE+1GvRr65AnxMnTrSdo62YfSkfQixlqsTiQ50exohVoF+xmPG+lrhBXeJrqRd/QVV/iVTZjvLod52HOnVanbaqBPVZ+lRsBbE2Ym0jTetnEYvtOE/1O8qmxo4IyqT8VtVfkt/JP6IL0vVxWGdMP6SFNujzqnmsStBmqt9zzS1ic1VfIC/VpxBcU7f9UHB92E84Dtuv6lNILp1DX0iavgb5egxAkB+m5WgrPO82xlAH0HWhbe0z1I25VduAY5lvJS0lFv/gPNVforP2Ubc6p+JHBOWgg65PJNY36AvdDuoGYbmwTZzrMr1Ilc5IS413yvzIe4Xz3dq1a9ue8EA2btzoNmzY4D+9oczLly/dzp07i2tmOXbsmPv222/dmzdvypT+AZ2WLVvm9u/f765du1amOq8f9CmCvUxx7tGjR+7UqVPlmXPPnj0rj2aBHUuXLm3ZffXqVZ+ur8kJPu1KW2fPnnUrVqwoc/pLHR/2ypMnT/ynXjwlgRSTnNuyZYtbvXq1z79x44b/C+B/HWdhf1lA3adPn3bnzp0rU2btgq91Wo62gLVPX7165f19+PDhMmUWyxi0krI959jJTSf/AOhy/vx5H0s41jEDFmIeS/V7zrmlqi/6OZYF2KL7Ccd4mr9t27YyZZZOfZpLZ+vYsc4JVSxEjIVzFPx4//59t3fvXn+Ouu/cueMOHDjgzwGOnz9/7vOs5Jw3UrFRR+eqOSEF+gLocfPll1/6+09IrntBLvo995JZ/JYJOB+vAkZGRtpkzZo1bcE/rGzatKnNbkw4Z86cKXPzgAnl+PHjftKRduBz+H7YQQzBp+vWrfMT7+XLl/1CYffu3T4fi5zFSM4+bfoYzEG/fFin3/sxtywEsT3jy5cv72lrQLf0c+z0e5zG/Pzrr7+6p0+flmfOff/9935BjgUgZPPmze7ixYtlbv+xxMZC6Yw++uWXX8ozQtp5D5/+8Onj6NGjZdIs+MSHPSyY/FEGnw71p0CkHzx40C9semVsbKxyD1AIgvr169etT8mC6Ffnk/H4+PicPWAY0OEnMtiLT5Z4IgB964KnoUuWLHEPHjwoU5z3OZ44LAQ5fWgBPsUEiHjBHkr4d9euXX6BkPtGcvv2bR+b6DMBsfXixYu2GO6VXH1qGYNWUrb3u9/7RT/nMWu/W+eWXumlT+vOvcKePXvarsHxypUr/VN8C7l0to6dbueEum3lijEB7eq6cIwPWdevXy9TZmP/ypUr/inrkSNHaj8dBjnnDUts5NA5BdoAWmf058cff1ye9Ua3Y4cMNn7vBPaoaIqOnrPHB2maiYkJvx9H9geFdQiSL3XhGGlCmG+pJ6wDaJ2Lgep10+nYkyPgGOV0mhDqo+uT67qRYgCVLcxSTKK+Lb2nyWK71c8pSfkQEuos1PWDxI9cJ/5E/TjX7cA+pOm+keustod6ax9b27JI2E7YpzEfA62PSGhb2BdWqbIdkup36RudHvNP2I6g/Zfqr5R/Ql1GR0d9eX2s7Uv5UOJQE85jUrZKUv2OMtpnQp02INa+SPWpSFiurj4QtCk+E7TdMV2ALtOpXLc6W8ZOalxAcrSFY6Rp6saYtHHp0qW2umJ2QUTvTvkW6XXegKRiQ0snnWPtgLCe1NwSqwvHuE7q0TYjHWmx8dWpLmnHKimdoZf4TvzSSR/KvEg0kRIIArGXyYZCoVCGQTAXYiERy6MsnGCxtdALprqxsRA64x9dYwt0CoXfQ2wEr3xu3rzZeg1DCCGEDALFAs99+OGHfm/uYmEhdN63b5/76KOP2rY7EaKJrpQpFAqFQtGiX/l2ehVO6Y+Er/CBvPZfCLHExkLozJilWGWkPCCEEEIIIaSRcMsEIYQQQghpNFwQE0IIIYSQRsMFMSGEEEIIaTRcEBOSAfzHNL7EHv/FTOYyaP7ppz6MDUIIGXxMC+KxsTH/C23jwa8ukfzgpjk9Pe39jb+8iQ4/HF+kV+Zr3sBi/u3bt+7u3btlSnfkqqcbOL7qs5D9RchC4r9uAl+mXfUF2an8XII2BPkhDP21KXV/HQZ6a/ArOvhi7ljZQRLYCLthfyyfMlxiHV/9GodWGTR9mi7zMW8Ui6Msc2auerTATtwnYsj9A+UYp/VlPvort7BfKTll4LZM7Ny50129etV99913bsWKFf6HMPDb7b/73e/crVu33Jo1a/zvqlvAp9y//du/dTt27HAjIyP+71/+5V929ZvyhBBCBo8///nPfn7fv3+/u3fvnp/nIY8ePSpLEEJImveKT9D+FduhQ4f8JFJ8sPaC1yVYUIbgFYqUCV+nbN++3T1+/LiVDyk+vZW5/WfVqlVuyZIl5ZnzC+l/+7d/c2/evClT8lB8Sm2zVXyKNOQB+BI+hX+mpqZa/gl9aMHqZ6TpMhMTE+7SpUtl7iyWMinENqmjU+xYCOuCr+Aj+FQQf4toH0p8Xrhwoc1HOIbfBCmHfkLd2qdSn7SDMqOjo231Sb/qvpa6Ykh7EPhczqUeQZcTPYC0Yx2nnagTh1V+tupj9U+q33PNLVZ9coyLVFt1+iLlnxTSl+IzrVtVDKIM5lGNtS9S9SwEWift5zr+yREbKaQNPZ5ic1SucQEs/VU1J1ioE/NVbUn/9DofEqJ5D09g8SQWT2TxZBaftCFYSB47dqwsNgsC79mzZ60yQE8WZ86ccVeuXGnlQ/CTx90O0F45fPiw1wd2yYD5zW9+4z755JOyRB7QDvwniE/RrgBfohzS/+///b8dfWjB4mdMCh988EErH32Hp+PLly8vS9jKWMDPYH7zzTetemDnwYMHzTdrAX74x3/8R3+91AVfrV27tiwxe6P4/PPPva5SBjEpkyXeJsDvf//3f9/mIxyfPXvW30DAxYsX3f/7f//P/cM//IPvL3xY+uqrr3wa8gD0QDuYeP/pn/6prT7kAelrlOv0RAq66XGDvvov/+W/+LceUg9AHZ3GV51xWoU1DlN+tupj8Y+l33PNLRZ9co2LVFvWvrD4JwWuTc1RIIzV06dP+3Gs36pZ+sJST79BP3QaX1b/5IqNFPg5Y8xF3377rT/HQm/v3r3+KfiTJ0/czz//7NNzjQtLf6XmBAv9nn8IqUOtLRMIPGxpEBCgAgYPJmh8YpPFJ2Tjxo1uw4YNrYVIv9E3EQgmizoDODe4MZ46dao8a/ehBaufMSlgMpN8mdh125YyVvAEVerBwhOTVV22bNniJ2JMdgLiDXUhDbYtW7bM3xT0thmUwVN//WQAtqDvBRxjy822bdv8OWy/c+eOO3DggD8HOH7+/PmcCfXVq1e+TV2fFfQX0D798ssv/ROSkKrxlZuqOKzj5xyk+r3fc0vOcWEhNSek/JML+Pnly5dtMQhfYFEmb9UsfWGpJxew/7PPPivP3oG4xYdj7Z8c46tfsYFFLxbBeEoLwXyBOFi9erXPv3HjRrZxYemv3HPCIM0/hAhZ9xAjyPUnOpE6+35zMjk5OWfw4EkmyH0T7SdWP+OGoPPv37/vnyhoLGWqgB+PHz/ub9hSB3SDjgvJw4cPy6N34CmOfg2IpzC4ceCGANm8eXPr6fB8gj765ZdfyjNiod9zS6/jYpgZtHm+3/QjNuBH1Ltu3Tq/EL58+bJfiO/evdvnY8EMmt4XhOSk44IYry/wqhgLBQv4JI5PeUePHi1TZsGCFHuF6ixAf/rpJ/ff/tt/a2v7iy++cLdv3y7P3oFXK/hUHHvqiwkEr+5123/913/t9Qkni6p6LDx9+tStX7++1Rb8h4kqN1Y/wx6IBotE/UncUiYFnljgNRW2TQjQDU8u6oL+DfsLMYDvcIV96LPXr1/7V4ca+dCDpxrCnj172uIHx3g7cP78+TJl1pd43Ygnw0eOHIk+He4VeUKldUZsfPzxx+VZb9Qdpxbq+DmkG31S/Z5zbrGQY1zkJOUfK6k5Cn7GkzldJ8qibcylwNIXlno08HUvc28uLHO4NTZQh+ztRT3dgHrxgR0+wx5ltLFr1y6/UMYYzTUuLP3Vy5xQl37PP4Ro/NdNFAPAf6WZgGOkIa8IsjJ1xn+lD9KKSaFMmWn72hPka4rg7OorgIrgn3n79m1ZS3sbWkQP0UsLvjJmYmLC5wud9KmqxyradvhP2kbd2h7RQdoEYl/oP0H3R6xcaJeuWwjrsJSxiI4PUEzGvh7YC7tj13SSsK6wjjBOQcx2+F7HTyddpL6wjlg7IKzH0l9hXTjGdVJPnfEVq0vasQjaFL9UxWHM/tBHsXKhPtZ4TvV7rK6YPimx6KP9IYT6WiTVlrUvICn/WP2syyFPz1HIhw7QRSNjSdeV6gtrPRCxGXVKWh2JtaX1qTO+Uv7R1wmhPRDpW113XRG7pA6pE/bocqm+sIilvyA41tRtyxrz1rbCcrG+oFBqSDSRQlm0gkk1vGlUCW4ovdy4uhF8WNMLGgqFMjyC+aSbhSmFQlk4GbjvISaknxSLUvfhhx/6/cT9orhJuo8++qhtmwkhZHjA9qybN2/67QiEkMVDdKVMoSxG0a8P8Wou9hQ29jpOXqXOl1j0olAoFAqFsjCCLwDEASGEEEIIIY2EWyYIIYQQQkij4YKYEEIIIYQ0Gi6ICSGEEEJIo+GCuAb4RgJ8GT6+JYCQujB+qmmyfxgbiwv2FyHDBxfEmcDEOD097X+ZCH/nc6IcL3/ZCX9Jd9CH/aGf46KpjI2NMZaHEI4dQvrPnK+eoHQv+EovfMVWMXlF83MJfniiuAFG8xajnFS/YKQpbgTz5sth8+EgS7/GxbBKKlYZy3lkEP3IsUOh9Ef4hJgMBPh9+sOHD7t79+65HTt2uJGRES8//PCDO3LkSFmKEEIIISQ/72Ev1Nu3b93jx4/d1NSUfz0DKT6RlkVmKT6l+jKSDyk+SZe575D6pAzqRF3yusdaD9J0mYmJCXfp0qUyd5ZUmVAXHCNNM1a+bsQrqdHR0TbdkAege45XV/CDrkP7IvS3hWXLlrXpq/1o8XOqjOh74cKFtnI4xrV1sPZ7jGfPnpVHs0ificR8ZykDqnwIcK7ricVhilT8WMegldQYBJ38I9difyQEebr/pRz+hnkQHNeNjZR/QGos1/Fhyj+9xKogcaP11PWKXinbJf/QoUP+g6LoE9ovSL/oNuoQ+iZsR/JTfhY9xKaY7SmkjlSMpXQGqXne6udUfwmhTjrGRBeJKV0n8uqQw3YLufrCWo+OF5FwDOawi5AQ/yqmCKq2V0VF4PrXR53OJU1fg3zUg/okDfk6zVJPMYBmJicnW+fF4PC/LFa3DNo8ceJE2znKaP0gci0IddOCctA1vF5LVRnoXCwy2vJwjDTk6bIpgZ6wNfSdiMXPljI4Dv2CY/gLtkpaSixtwReIFU3YDsrH0lBXnTIQ6CPp+KvzIJYYqyO4Hm3FYkNs13WjbOizlKB8agzivMo/ogvq0seh/rgGaB1xHNYNqbJdJOWf1FjGccqHOE75J7xG0nS9KUFdMq4hxcLA1wkboXdYf8o/KF/VPvJBle0WQfs5/JxrrkMbQNeNYx1jqDfXPI90Sz9X9RfqSMVYrB2cx/SqagtpOe9xVZKrLyz1xGIXaaHPcthFoYi0tkw8evTInTp1qjxrfypXBLNbu3at//RcxF1LNm7c6DZs2ND6ZLdlyxZ3+vTptt9v37lzp1uxYoVPs9aD1+dLly5t5V+9etWna/0sZQA+OUqZs2fPel1ivHr1yu3fv9+/tp8voPOdO3fcgQMHyhTnj58/f+7z6oInGfDn999/X6bMYvGztS8AfKv9guNbt265bdu2lSnV1GkLcai3TFy5csX9/ve/93WgHJ7oop+uXbtWXjEbY2/evPFPIixlNJ18CKwxlouqMWglNQat/oEu58+fd0+ePPHHN27c8OkhvcZGHSxjOeXDXHNUCvgNT8dWrVrlpbhp+7ZXr17t8zv5sxfQF7BF6CZ+QA4/55zrLDE2SPN8KsZy00/bc/VFVT11x2A/+pQ0A/MeYkyAeqEismbNmrYbawprPZs2bWrLv3//vjtz5kyZO0tVGQya48eP+4lJ8tEu2l9IsPDCoMagh2zevNldvHixzK0HJhXssf3666/nTBIWP1v74uHDh+XRO5YvX+5v9Fa6jR9Mcjdv3nRbt24tU/JS5UNgicMmkyM2UvR7LHcbqxqUQ6ysW7fOL5AuX77sP1zt3r3b52PBPGjk9nOuua4qxgZ1nu8HC2F7rr5IzRs5xiAhdTEtiPGpFk8Ajh49WqbMgqdJ2BuFgQBu377tDh482DoHmAhfvHjhy1rrGR8fn7NfCANIP4VIlcGTmCVLlrgHDx74c4B28clzIYEP8NQTT0vwz2LdPh0WsGBEfXqRZvGztS/Anj17fD8KOF65cqV/gmihTlshciN9+vSpnwhfv37t9u7dW+bOgnoA/GgpExLzIbDE4aCRGoPd+KeKXmPDQs6xnGuOsoBYwYIQC2HsO0e9u3bt8gvlXm/qY2NjlXtYuyH3nJlrrquKsfme57vxcyrGAOaz9evXt8qgHSwA67AQ97hcfVFVT84xSEgtiiBrfd2V7HEqFgH+HOC4KOYFe3g04T4pCPbxaFA32tBlUvXo9gW9v8haJtSlGEy+jOiEsrL/SBPqHOor6PYsZUSk3Zj/LCK2S9/otuv2l6UvJiYmWjECYn1qkaq2dByGoB+ljlifhTpbylh8KGU0sf5MSWi3IHVp20VP3bboY5XUGKzyT6jL6OioL6uPpT7olYqNlO3WMqmxHOpd5cMcc5RFUB7XSduio45ni+2QsM86+Qb1Ia2T7SnJ6WeI6N2N/yCoLxVjKZ1D3wlhPZAqP0Os/VU3xnA97ATiQ0tbOW1PSY6+sNYDCe3XMZTTLgpFZKQ8IH2mGOz+U7De8zeIFJOXf9LF/VkkhLFBLPQy1zHGBodcfcE+JYMKv4d4ASg+wboPP/ww+o9chBAyLHCuI4QsJuY8Nqbkl9grHrwSipUdFNGvrPgqiqKFsUHpJLnmOsbY4EiuvmCfUgZZuGWCEEIIIYQ0Gm6ZIIQQQgghjYYLYkIIIYQQ0mi4ICaEEEIIIY1mXhbEJ0+e9F9Cvk998XY35KqHEEIIIYSQTnS9IMZi9e3bt/47JgkhhBBCCFms9PQtE1gU/93f/Z375JNPyhQbY2Nj/jf+B/1HKQghhBBCyPDDPcSEEEIIIaTR+AXx9u3b3ePHj93MzExL8POKIdgeIfnT09Nu1apVZc4s2OuLdMkP9/5K/qFDh9yOHTtadWHrBZ42C6l6BDxpljogevuGbOmAXVNTU9EyhBBCCCGEAP/rMcXisu0XO5BWLIo7nhcLTv9LM0iXNBH8UhHSi4XsnDwI2tJ1dZKqenA9fg0JZXSa1gfXFQvqOXaEtlIoFAqFQqFQmivv4enr2rVr/VNb/bR148aNbsOGDf7pMcq8fPmybc/vsWPH3LfffuvevHlTpvQP6LRs2TK3f/9+d+3atTLVef2gj37a/OjRI3fq1KnyzLlnz56VR4QQQgghhJRbJrBoxBaGkZGRNlmzZk3bgpMQQgghhJBh471z5875p6ZHjx4tk2bBU1bsvcXTWJTBE1n95BXpBw8edEuXLi1Tugd7gav2Codgkf769Wu3d+/eMmUW0Q9Pr+syPj7OPcaEEEIIIQ3F753A3loN9t7qvbuyH1czMTHh9xHLXt6wDiHc64tjpAlhvqWesA6gdZY9zjode4kFva8YInloW6dTKBQKhUKhUIZbevoeYkIIIYQQQhY7/B5iQgghhBDSaLggJoQQQgghjYYLYkIIIYQQ0mi4ICaEEEIIIY2GC2JCCCGEENJouCAmhBBCCCGNhgtiQgghhBDSaLggJoQQQgghjYYLYkIIIYQQ0mi4ICaEEEIIIY2GC2JCCCGEENJouCAmhBBCCCGNhgtiQgghhBDSaLggJoQQQgghjYYLYkIIIYQQ0mi4ICaEEEIIIY2GC2JCCCGEENJouCAmhBBCCCGNhgtiQgghhBDSaLggJoQQQgghjYYLYkIIIYQQ0mi4ICaEEEIIIY2GC2JCCCGEENJouCAmhHTk5MmT7sWLF27fvn1lynAwrHaRatjvhJBOcEGcCUyw09PTbmZmxv/lhEv6zfj4uI+/sbGxMqU5wGbYDh/MN7na6qfOuViMOpPBgfFDBpq7d+8W8TkzUwToTHHakiJwffrjx49ntm/f3pbXq6DusL1hEfgKPi0WxNH8fko//TysbS02gV/gn1jefMgg9cVijMFBjOWUToOo8yAJfBPy9u3bmZMnT7aVgx81ExMTA3PvmE9h/FAGVd778ssv3f/5P//Hbdiwoe2p5pYtW9yTJ0/cV1995a5du1amEkIIIaQTO3fudFevXnXfffedGxkZ8XL48GF38ODB1j22WBS6zz//3O3YsaNV5v3333dr1671+YSQ/uO3TLx588b953/+p9u6datPxD6rpUuXulevXvlzAYO4+CDbkuLTbJnzjuKTX1uZ4lOvu3Tpks/DZIDtBIcOHfITgZQpPj37Nq2gXVx34cIF9/jx41Y9ON6+fXtZyvljnQ+BfiFVdlnbsmDVx0IOP+MYaZ3ygfgG9Y2Ojrbpj7xcfQpS+uRsC1T1u+RJ/0jbSEOekPKPBelLbYeOFdGrTvxI3EJwTRirVfEDtL34i3ONtS9yxLzVP4K2PcxL2SWgHbQn9UxNTfm6wvJVbdWhqp5Ql9DHQqpPU1j7VKjSudd+F5ux3xeC6/UcrNuz+CfV71IH6kdfS12hXd1y7tw5d//+fX+PhW8+/fTTOQ+bNm3a5FasWOHL1iHV75a+sPjQOteFdc332CEkG8Vg8a9pTpw44f/ivBhMM6dPn257fVMMoDnbJ5CGMnJeDISZycnJ1jnK4hqUkzRIMXh6fmWC6wHqkjQcax2hm86XNN02jlN2WdoSwbn2mxaLPhbJ5WfoiH7X56gn1F3qD32gJdWWRaz65GgL14f9hzTd77F2cB76wOKfKoF9xU3f9yukuJn4eqReqdMSPzgGOg3XaFut8SN5aCPsAxHUHbtOxKJzSqz+wd/Q9lj7kCq7UL646bfloU6dVqetKrHUgzZT46JOn6YEbVddZ9E55guk1dEH9sHnqEcfh32Hv5Z5A1LV70hDG1V2WQV16Ot0u5Aff/yxrXy3Yun3mA1I02WgU457AdL6NXYolNzS+qe6//iP//BPivfu3ev+6q/+yhWDrMyZ/YS5bNkyt3///rZPtHg1hGuKQenPjx075p8sF7HuBa+NwKlTp/zf3KB+vIoScHzr1i23bds2/2kUr5/wtEP0gWzcuNFvD4FNVrtAVVsWLPpYyelnfNKXes6ePeufUMTA2wL4SftgPrDq0wt1+t1KL/7B1iQ8UVm1apWX4objtyytXr3a59+4caNW/CAeYIsAnfB0CmMb9Guc5op5i3+E0PZnz56VR3ZQ9+nTp9ue1KHO8OldjraApZ7UuFiIubeTzjnnukePHrnz58/7GMCx7mtNrnkDbWifddunQNsPf/3888/Rp7/FQrBVDlIsDsucNKl+r9MXOe4F/R47hOSk7Vsm/vCHP/gBhIGLCagb8NpH9kRBcCM+c+ZMmZuXhw8flkfvWL58ub9pAkxuePWn9YGsWbOm9r7oVFsWcurTq58xER4/ftxPXlIHdIOOC8Gg6dNP0Pfov3Xr1vkbyuXLl/1Nbvfu3T5fxqI1fmKx+uuvv7qnT5+WZ/0bpzli3uqfYaTOuOjn3JsiR79bGOR5Q+8hhugF5AcffNBajCJd9L5375775ptvfLqVVL+n+qLJcy8hmrYFMT5tLlmyZM4nPwya169ft54wCfrJMBgfH5+zNwk359SnP3xCnp6u/1Vle/bsabsGxytXrvRPFPBpFO0ePXq0zJ0FOmNPEyYBq12gqi0LFn2s5PAznq6hrx88eFDmOq8bnibkoG6f9qJP3bas/Y4F5Pr161t9g3Zwo5gP0H94YoOFHvb/oS937drlb27Qt078wA9iC8AxbprXr1/3593GjwXdFzljPuWfnNy+fdv/A1ToU+xl1X7tB9Zx0a8+tZCz31PM9zw2H3TyTzek+t3SFzl9OEhjh5DaFBPdjFAMLL+PopgAy5R3XxdTBHhr75CAa4tgb+2/wPUhuAbXShlIWFesTErQ1sTEhNdPEF11OexN0oQ6W+1KtRW2I4S2pfSxSC4/634GxQTpy1T1OYj5OdWWRVL6SLkcbcVsi/WF7i+URxwA9EGsDhDzT0rQLtpHvTjH9agHPtHlquJH8vA/AEgXQrss8WON59AHYX6srpifU5Lyj44dtIc0badcZ7UrjEXdp9a2UmKtJ9QlNi70dUKsLyxS1ad1bA99XaffpX/lutHRUa+HPhb7Lf5J9XvYHvTsZFdKwr7Q/tMS0wm2hOWqJGwLxNpL9UXKh2FMCNrHnerSZerED4XSbxkpDxYdxcDxn4Rj+5hy08+2CCGEEEJIf+Ev1RFCCCGEkMYz57HxoIt+/RN7ZZNT+tkWhUKhUCgUCqX/smi3TBBCCCGEEJIDbpkghBBCCCGNhgtiQgghhBDSaLggJoQQQgghjWbBFsQnT570X9a9z/hl753IVQ8hhBBCCGkmbQvi7du3u8ePH7f95vnY2FiZ2z+wuJ2envbt4y8XuwTg+6AXKiYJIYQQMty0vnICvxIzSL8Ug1/Hwdee6V/UqSv4ZZxBsmlYpV9+RhtoK5ZHoVAoFAqF0o3M2TKBX2QjhBBCCCGkKfgFMV5B41X0jh073KFDh1rbJe7evesLAezVffv2bSsPx0gLCctNTU35emTbQ67tEKl6JB/2wC7RJ9Qbuuk69LYRbT8YL1/Z429d5FrdfthWrjJ1EPshqFvOERMSF2Kv9jnydFrKz1pHEakXoCyuQRnEjJTpZI/WG9egfiHVFhDboPvo6GhbebENVPmnDtKeSGhXv/UhhBBCSDutx8XFDbbj6+hi4TNz4sSJtvPipt22nQHXFjf0tjTUGaZBikVLcjtEjjLQCTrE8iDFQmzmxYsXbdfjGGnI02VRD6iqr5PoOiHF4s/rBv3hRxznKhNrPybwm7YF56gP9Uoa6gvtxXnYTqycFtQdXhO2D9sQK6FO+jrkhX2AfNgOH8SukbRQP/EZCMtDwmtwHvrHIqhD6ydpqE+X65c+FAqFQqFQ2qXWt0zgyVVxr/Zy9uxZt2LFijJnli1btrjTp0+7c+fOlSnO7dy505fTaYPEsWPH3J07d9yBAwfKFOePnz9/7vM0sGVkZMT/rcuTJ0/8E9BVq1Z5KRY+3l+rV6/2+Tdu3MhWxkKx+PR/T5065f+CL7/80teXG7S1du3atrcPkI0bN7oNGza0Pd199OhRm07Pnj0rj95x9erVtj44fPiwu3//vtu7d2+ttsCrV6/c/v37fR2aXP5Be8uWLfNtXLt2rUydjaU3b960PUUH860PIYQQQuZiWhDjpn78+HG/2MWCEILX41i8DAPff/+9Xyxh0QHZvHmzu3jxYpmbByyGsGhbt26dX8BevnzZLV261O3evdvnY6Gbq0y3oO5ffvmlPMsLYgUxI/EjsmbNmraFooXYPvdff/3VPX361B/nbEszn/7phkHThxBCCFmsmBbEePq4ZMkS9+DBgzLFuaNHj/oncZrbt2+7gwcPtj2FwwLzxYsXc56ELRRjY2Ot/cICnl5fuXLFPxk+cuRI9OkwGB/vfg8xwEIOC28sYC9duuSffu7atcsvcGWhlquMIDrfDfasyhN7PFUV4JuPP/64PJsFi8z169e3+hRlsNhMof2MtqAjYkaDmMB+4fCpbQrUqeMJx5s2bXLXr1/P1pbVP0InP6M/Xr9+3VYPEP1jcRYjlz6EEEIIieP3K8YobqqtvRVhmWJx4fc7hnsYw3JhPvY9xkBdxWIlaxkIjpEmhPlhudh+ZxH4A2i/1BHUq/fIwi/wD3yWu4yI6Ax/hXkx36Cc7i+I9jXKTExM+GPtB4ufwz7TvhYbdLroDnAs1xcfAnwZQddjaSvUVQhj1eofSB0/g4XUh0KhUCgUyhyJJjZSsHjQi7wmyuTkZHSBRZmVQfMP+4tCoVAolN6l1j/VDTPFosJ9+OGHfj9xU9m3b5/76KOP2rbGkHcMmn/YX4QQQkg+oivlJkjsVXXTXjHDXiF8RU8ZPP+wvygUCoVCyS8j5QEhhBBCCCGNhFsmCCGEEEJIo+GCmBBCCCGENBouiAkhhBBCSKPhgpgQQgghhDQaLogJIYQQQkij4YKYEEIIIYQ0Gi6ICSGEEEJIo+GCmBBCCCGENBouiAkhhBBCSKPhgpgQQgghhDQaLogJIYQQQkij4YKYEEIIIYQ0Gi6ICSGEEEJIo+GCmBBCCCGENBouiAkhhBBCSKPhgpgQQgghhDQaLogJIYQQQkij4YKYEEIIIYQ0Gi6ICSGEEEJIo+GCmBBCCCGENJp5WRCfPHnSvXjxwu3bt69MaQ6DZnuT+yIX9GE19M9wMj4+7u7evVueEULIcGNaEI+NjbmZmRk/QQ4TsAd2wT7SPVgITU9Pe1/ib66FERZab9++HZqb8vbt293jx4+9n0QYe/2D450MAoxDQgaUYvEyUyxiivE5F6Qjvyg2UwzemWIg++NhEtgE22J58yHD6kdIseCbKRavrZjJIcWieGZycjKat9gE/b6Y+n4YY3UxjndcH1J8UPRjI1Z+MUmuGEM9momJia7mon7FfL/jsJOE93/E1dTUlPcd8vFXjimUYRf/hPjPf/6zGxkZcfv373f37t1zO3bs8PLo0SNkE0Iy8fDhw/KIEBs7d+50V69edd99952fpyGHDx92Bw8e5DaVgmJh6T7//HN/zxL/vP/++27t2rVlCVIF7v+ILcTYH//4R/fmzRuffunSJbd06VL38uVLf07IsFN7D3HxabH1uhfHGkzOllfnxafjVh2Q4tO8H3xW5Hq8TsdrdaBfR4tesVfUuDaGtgvX4FpNSueU7ZJ/6NAhP3FLPdoGUEfnKlL6yHYEtDU1NdVqK+xTIGWlDMqjXFhnJ3DDwnVih9YNeRrdDyizatWqMmcWq39S/WUhlw/FfvQ7+j9VLpUPXUZHR9v8cOvWLa8L9vJCkHbhwoVWGV1X2J841jEodqdiNeUfocouqw8tpOzSoH4ph7bD8V6ls+RVxbPVh91y7tw5d//+fbd161Z/XhUbohOosgtov0Bi+lrHYNgfet7I5R/o8umnn7qvvvrKXbt2rUx1btOmTW7FihXeTzn7K2W72GyNZ+3vMA4tfrb2u24Hdcg54uezzz4rSzn329/+1uv9888/u23btnXUm5ChpJgIZn788Uf/uBjHxQDwr74hOEYa8orBVYyfmbbXSchHupyLhNdqKSaMtlfgKFsM4lqvqVBvcdP3dUGKCcjrIXWJTjH9kKbbwnFoF65BPagP53V0rrIdgrqrbLXoXEeq9EFaMZG21R22j2OU0dejfJgGqWorZjfOdVuhndK3SNdlUv7JEWNaevWhSGhvmKdjTtK07RCxBYR1iS5I18eh/vh74sSJtutQp+SL4FqLz6r8Y7EL11l9WCUWu9AG0G2hHa2jReeYb3Ae6mz1YUrCumM+Rxr0BqEeENSRsiuU4kOkH086LdY3SNN2Ij+cI5AfpvXqH9Ql968qibWD89COlD4W26FTKp6RB3QZ5Ov+sbQFSfV7eA3OMa9Kv+IaAfMmdIcUC2xfry5LoQyzvIdP0PoTooBP2/iUjXwBr1Tw+k549uxZeWTn2LFj/jVMMfa8oE5w6tQp/9fCkydP/KdwPD2EFIPWbdmyxa1evdrn37hxw3/ixysz/UQOsnHjRrdhw4a2T+KhXXgdiacve/fu9ec5dLZQR+dcYFuMtiPsU/j19OnTbXEAX8nTl1zAdrya0/0Av3/77betV3hW//Srv4SUD1NA72XLlvktS/opF3wB24ubUZkyy6tXr3xZxGkIdDl//rwfIzjGWIiBp0nin7Nnz/r+zE0du3r1oWCxq2q81+2LfqLjHjbgKV44BjvFRi67rGOwX/NGSLG4a9OrWPyVOb1TZ362xHNVHNa9F3Tqd9QDtC5ffvmlv2cKuEa2mnzyySe+jyD//M//7NasWeOWLFni51RChp0F+R5iLLRlAEIwCZw5c6bMTYMJHdesW7fOT7yXL1/2C6Ddu3f7fCwGACYlvP7SbUEwyPVNIbav89dff3VPnz4tz3rX2YpV56Zi9U+/+muxgRvp8ePH/WJFfAN/wq+LmTp2Wcb7IKL3EEPCxU+/GLQ56oMPPmgtEGVxB/3w/zDffPONT89FTttTcThffsa1v/zyS3lGCBH6viAeHx+fsw8KE0PdJ0K4Bp+UsRDG3lBcv2vXLr/wwYDHUwikHT16tLxiFjwJwR4p/Qkbn6L1ExIcY0F1/fp1f55L5xh4ojE9Pbv/so7O/eL27dv+n3dCf2GfqvWpEsAkv379+lY9sBuTvQDb8QRL14myaBt9DKz+mc/+mg8Qr69fv269kRDEFzmfzuAtCp74PHjwoExx3p94GpVCx6qFQbWrarxbdU7Fcyfq+jAXufrCOga7nTfq+qeTPiE5+iv3/FwVh7naQj1A9zts+vjjj8uzeqBdPF3G02rUQ8iw0drzpME50pFfBH6ZOuP3HyGtWHCUKe/2QSEvBvYhFQNpznWCzreK6CxtFxNFay+xLhfqpO2SPOyT0/brMhCLzhbbIThGmhCzvUpnq6T0EX8BqT/WpxDd/yDcU2a1XZdDHr4aCUhb0qcalEF7uq6Ufyz9ZZFcPgz9J2gfoz7Uq9F2xfKB9EWoi+z/08dSNtSnuMG25XfSCcfah5Z+T9ll9aFFUnaJvqnxntJZJBXPsbpwrH1oEe0PENYR0xek+hPE7NIS20MMSY1BSGregOTwDyQWi2i/Uxm0021/VdluiWe5PhWHqbZi/QlS/Y5j1Bvr15SIfdpnFMoQSTSRQqFQKA2XTgtiyuIW/PNcN/2KhXBs4U6hDIMsyB5iQgghg8327dv9K3wyXBSLWffRRx+1bS+ysnLlSnfz5s3WVgxCho3oSplCoVAozZLwFX247YCyOEX3a2zrCoVCcTMj5QEhhBBCCCGNhFsmCCGEEEJIo+GCmBBCCCGENBouiAkhhBBCSKNpWxCfPHnSf3E6/gt1mBhWuwjpBGOeVDE+Pp71Z41Jc+DcQoaVvj8hxiCanp72v3SDv7kGFQbp27dvB3aSHxub/Y193IhI98B/C+XHQY8x0jscp6QXZH5CHBFCFh9zvnqiH4Jfz8FXwRQL4mh+N1IsWPwXjsfyBkHwFUbFhBnNWygZRJ1SspA6L3SMLcb+skg/7Uq11U9d0E7IsHwtVi4/oh4NfmGum3tHv/oVbaCtWN4gSuhfAP/GylqkX36mUHIL9xATQsgCsXPnTnf16lX33XffuZGRES+HDx92Bw8e5CvpgmJx5T7//HO3Y8eOln/ef/99t3bt2rIE6RXEG/z6u9/9zt26dcsf8wdZSBPxC+LUNgZ5Vfz48WM3NTXly0Fir46lrJRBeZSzTu6YAHFd8QnTn2vdkKdBvdIOyqxatarMmSWnXbot6CbnoU4WdF2xtsQHsTJoG2nQG/oD/KIUbOhUXwzxzaFDh/zNRtrS9QpV+qQQH2PPGQTXX7hwIapvGDsxXYRly5a16oBIvADtj1h+HaCf1BGLMVDlH7EpFWMp2639lYp5IYfOQOJRZGJiwl26dKnMTdOvOAR12gKov1NbOWMsBL8Cdv/+fbd161Z/LnZD99HR0bZ2kSek/KPtgcTsttolMSJl9Dxf18+dgC6ffvqp++qrr9y1a9fKVOcXaytWrPB+EptFR2kbaeIbqz4p28Vmy7gA2t+4BvULFj9b+123gzrkXJfJgfYt/uJck8vPwGJ7GIOx+LLUI/4Sm7R+nfqWDC+tx8VFIHR8FYW0ImDaXoWgbBFUrXMco4y+HuXDNEhVW6hHtwPBuW4L1+oyxUDwrxqRLmkivdoVtoVztIU2Jc0iqBNUtYW8YjB6nXUayuEY+hYLS9+22IzrUR7X6bosgvJan1BS+lhEfIy29HHYL/h74sSJtuvQtuSLiM64NqZ76FNJq7IzJuE1sRhDfso/YrOuK9Sxru06LSahb7Xk0hn+0NtHUB/qtegXSsoui85WSbWF/NQ4Dc8lrareToJrdF2xvhPfgrBdCOqo65/ig8ucOcxiF/IRG1o/5IdpKKevqyuo68cff4zmaYm1g/PQjpQ+Ftst4wJ5QJdBvu4fS1uQVL+H1+C8m3sTJBzPnSQWn1qgZ2iHlly2o33LnJmqB3bjnqqvw7HcZ3VZynBLrS0Tjx49cqdOnSrPnHv27Fl5NMuWLVvc6dOn237nHK8E5dN8LopgdS9fvvR1C8eOHXPffvute/PmTZlip8outAV0/pdffuk/QXYDXo9qvXVbxcD1Tz7379/f9kQE5WFXMTjdkydP/CdhPKmEQA/4ffXq1b7sjRs3/N8cWPSxAh+fP3/e64/jTnriU3wxb3k5e/asj50YeAKB16bff/99mTIL+gvpeEoh9UA2btzoNmzY4G2yYImxOv5JjR1gtb0XcuoMfyxdurSlM2Ib6GtykDMOrVSN01wxptF1oe2ff/55zpz56tUr7wO84tbk8o/Vrn7N8yHFYqZNr2IRVeb0Tp0+tYzlMH7QZ3jqv3fv3trx06nfUQ/IdW+KUSxSW09Sc5DLdsE6Z1bVg3nszp077sCBA2WK88fPnz/3eaQ5cA9xF+Cm88svv5Rn/QVtY2Jdt26dvzFdvnzZL0p2797t87HgXIxgIjx+/Li/0cpeQSx6cfOJgRvODz/84L7++us5kyiuwbVSj8iaNWvaFgyDQl3bBwm8vtY+RmyeOXOmzB1ecseY3kMM6bQAmG8Gbex88MEHrfENn0AX6Hfv3j33zTff+PRc5LT94cOH5dE7fv31V/f06VN/PF9+xrULdW+yksP23HMmHqxgQY4FO2Tz5s3u4sWLZS5pClkXxLdv3/b/DKIXKAgu7B2t8xQHk8b69etb9eATKoJdwFMIPBHRdaIs2sbiMCfyxAOf7AXo8/HHH5dn+cBk8Pr167a2gNgpn1Yx2WLwwlbs18QTil27dvnFSC+TKYBt0+VeKqs+OcAT7iVLlrgHDx6UKc4dPXrUP03oBG6QV65caVuAob/gD1yrgc7Y96djswpLjOXyTze2C7q/LOTsUzw9gmgQm7EnZnXpZxzW9WGuGMtFLv9Y7ep2ns/l55DU/aITWp/cfYo6tS9wjA+P169fz9YW6gG632HTfNybemE+/NzLnBkDeuFegifDR44c4dPhBuP378TAvpsiQP0+GuxLAkVg+/012O8j6L0/RfCXqbOE+5lSbcXKIQ9ftQOkLegAXTQog/akrlx2oSyuEXCMurVdKdF+wbVIs7QFRDepS2yXa8QOtCFlrBKzDWmd8kGoT5WEPh4dHfX16WOJkTB2igmyLR/1ic/Edt3Hkhamgzo6i4ifNWGMpfwT2o90sQGIzhbbIan+SsV8rA7Qjc46TQj1sUrKrpTOdaSqLes4heSIsdCHFrtBKi5ASp/YHmKIxa4wXkN9IFV+riOxmA7nOl0G7YT3C4hFnyrbLeNCrodvUUaI+bCqrVh/Ast8gHpj/dpJwr4MEV+H+gqhH3v1s9X2UO9wzrTWIyLlY31FaYaMlAekJpOTk+4Pf/gDP0USQhYleLv0pz/9iXPYkMF7U/cUC3X/BFvv/ybNgXuIu6D49Og++uijttc1hBCyWNi+fTu/a3YI4b2pe06ePOk+/PDDOf+oTZrFnMfGlLmiX/F0euVCoVAogyrha+pw2wFlcQrvTd1LbFsF/BkrSxl+4ZYJQgghhBDSaLhlghBCCCGENBouiAkhhBBCSKPhgpgQQgghhDSagV4Q478+8WXv+M9ZsrCwLwghhBAyrPR1QTw2Nvtb9OPBr1uR3sBi9e3bt1l/23+x0uQYy2k7PvhMT0/7+vB3WD8IceyQ3GD8NWEO6mbscA1ABp2+fh0P6i4GQzRvUAX6dmJQvqKlmJxmJicno3lVshj7IyWDaFO/dMrdDr6WCDFeLIij+cMg3Y4dyuIQ9C++jixkPn+RbBjn1Zh0M3aaPD9TBlv8E2J8QfvIyIi7deuW++6779ynn35a+7fbhxn8as3Vq1e9b+Ankd/97nfuzZs3ZSlCCCGDBn6x7fDhw+7evXtux44drfn7hx9+cEeOHClLEUKaTmvLBF6JLl261J0/f94v8rZt21bmzFJ8gmq9Ph0dHXWPHz/25xDkCfIaRfKmpqb8K5XwlSvSpAyONShb9bpW50PwE6T6vPik58thUa/11Hm9gJ/GhJ0h4iMRbZfkSfvaBvGf+A46w2+xegTtP9SzatWqMmeWsB9wrHWW9g8dOuRvEqly0k7YF0KV7XXsyon2UaytKp3RT0jT/tDxZNXd6mdQpU9dqmzPMS6k/gsXLrTVheM6H6at9Yhv4Muq+cfiQ+0b1KfHjlxfNU4FiWupK5zrcs4/VXZZdZZyKR9WYR3LKdtxjLRexxfoxc/4mV5NlZ8FSxmwbNmyNr1CncQHIhMTE/5elpswTsO5x9qnAGmSH46duui66vo5V/ws1PxMBhf/qLgIMP/aAMdFIERfgxQB1/pVFymrBWlFcLW9hkK9Og1lANKlTBFY0frQHvJ0fSLQ8cWLF215KJuqNyxjFVwjFIPFtx/mwzfQWaehPTmHLmHbONc6wh74S5cL7QhtgC7QSbeFek6cONF2Dv1CX8Z0iklVX+D6lO0Wu3IJ6gRVbaV0hr6IL/hW/IvrUR7X1dUb5bU+oaT0sYrF9pjfkRbTL9XvQNeF49COlFjrEd+HZUVQT8qHoZ2xsYO6dRkIzkP9UnMd6gz1DNu3CMqn7LLoDEn50CKWsZyyPef4SrUFEZ01MZ+m/GwpA4E+ko6/Og8Cm/U9VuyOle1VYHvqXiD+0e2Hfg1tiY0di6BOUNUW8qr8DH0X4/xMGWzxT4iLTvafZvF0GOAV0+vXr1tPOjSvXr1y+/fv96+gQrZs2eJOnz7tzp07V6bMbjdYsWJFWxq2HyBdCD+lW4COz58/dwcOHPDnxaBo+x1y6L527Vr/ya8Yey3ZuHGj27Bhg7e5LrJl4n//7/9dpswi/oNfrl27VqbO2o6n7dCtDo8ePXKnTp0qz9r9A7tevnzZ5j/44ttvv52zfQNPgcTus2fP+n7ITR3bq+zKTVWMWXR+8uSJf0qAJyCQYjL08b169Wpf9saNG/5vDnLHT5XtuccF2tJzAY6x9Sp8w5TCWk+n+cfiwzpjJ0Vqrsvl59yxAarmcCupOSple67xVcfP0Flvmbhy5Yr7/e9/7+uw+LluX6At6Cb3JA3iDm9kRV/EP9A+zYnlXpDrvmOhyfMzGVz8gnjv3r3uN7/5jQ9SGTR/8zd/01psDioXL150mzdv9oP1iy++cHfu3Gm7QYUToMiaNWvaArsun3zyiZ8MBhUM4OPHj/sbttgMP8AfxAbi4/79+27dunV+or18+bK/ge3evdvnY0JerOQcFw8fPiyP3rF8+XJ/k6pDrnoGifmafxYDKdtzjq9u/YwPBDdv3nRbt24tU/KC+yn2KX/99dd+Tg6R/90RgT/OnDlT5uZhWO8FOeOHEOE9DBj8Ex0+/ejBiUGDT0WxgdyJ27dvu4MHD7Zdg8Uqvr92Pj5FXb9+3X9KxIDHJ/GffvqpzHF+YYxPnUePHi1TZoEe2CdVx64UGJx4oo4PFhqxWRbPT58+devXr2+1PTY25v1cB9iFftH+RH3wOyYEgE/JS5YscQ8ePPDnAH6Aj1JAp+lp+9dsWW23AlvwaR8fyqDLfGDVGYs0PGWCX7G3D/G0a9cuPxFX3WgtaD/n9mEVucfFnj172mIFxytXrmy9bbLSaz0WH1rGDrCM09Rcl8vP1tjIMbfkwmp7jvHVi5/RX3igAt9Z/NzNOMWiG0+iw4Xu+Pj4nD3F8Ads0UD/XubDXu4FGuvYyYHVz8M4P5MFRu+rkj00RTCUKbP7Zc+ePev3z4QgrwiKtj0Y+lqgy+g82XuDNgVpH3kxoEMxCFtt6To77eUJ64K9RZBHy3YSrSOI6YHz0EextrQ+KD8xMeGP0Qb8BH8BuTbmH6TrfgOoB9eKbmE/FDcHnxf2Wai3XB/TV6PLpWy32qXL6rQ6Yo2xlM4Q8bNcI7qhDSljlZSfLfqkxGo7JDUuLP2O+iTuhDC+LJKqJ+YbELZl8aH0qSYcOyin7Ue6HqdSVzjGYran/GwRa2xU6Wz1YUpQFtcA0QH1C9o/KdulL+Qaqbub8VXVltY5RLdl8bOljPhD7NK6SZqU0aBeiT8R0V2u60bCOA3vBdY+lf7SxMZOlVjnKIufRR+5ppf4CdsL7bHoQxkKiSZSKAsimNw40SwOQV91c/MJJVc9FMqwCedDCqV/0tdfqiMkBV6TY18fXtERQkiT4XxISH+JrpQpFAqlk+jXwPLqNVYuJbnqoVAoFAqlFxkpDwghhBBCCGkk3DJBCCGEEEIaDRfEhBBCCCGk0XBBTAghhBBCGk0jFsQnT570X5i/T33xPxl+2O+EEEIIsZBtQTw+Pj6vvy42HyxGnUkesEienp72/Y+/w7JoHla7BgnMF/Av5o9hgvPhcCL9OmzxSsh8MOerJ7qVYsAtui/Y77fOaAttxvIo/Rf8AhG++qtYOEbzF6vksMsSq4MWz/3SZ1jHMWyCbbG8+ZBh9WOVyC+qhcznD3A00c8USl3hHmJCCCGkTxw7dswdPnzY3bt3z+3YscONjIx4+eGHH9yRI0fKUoSQftNaEBefHv1rFZGJiQl36dIln1d8umx75aJfyyIv5O7du616Hj9+7LZv317mzFLVloD9n8Wn6FaZqakpX6+8AhadoMfo6KhvR8qKTlrP1OvjKp1xrOuHiC+siC6HDh3yk6DUAxthq0ZsE4Fu3VBVj+Sl+lTKVfnZQpUPpa+x3xeCvAsXLrTKa73DuIj5r06/94LoAj0Rn6JT2F+p+JHxoG3R1+j6pKxIbOykSOljiVVrPFvGTo4Ys+oDpD2RbscXwLWd6rHYLjEk+VX69uIfYGlL0HahPdiiqfKh5ImtejyKvnX6qwqxCTr2awymsPR7J549e1YezVLlZ8FSBixbtqxNr1An8YFIN3MLIYsd/wpncnKy9di4GNAzxcBpe8VSDLo5r1xwjnR9DsLrUBfqxLm1rWKybHt9hPwwTa4FWo9QUK6YJKKvoyw649qwfqTpa6yCeqquQ55uW9LQni6XEks9MV1wHtpq9XOVpHyIvkH/oow+DvsOf0+cONGqA+fQTfK1hNfGxFKmSnAddNV+DG0NzyVN2158EPBjA1LclFu2wza51jJ2dF4nu1L6iKBMrG4tqTLWtsSWXmIMktIHeWgH7ek06KTLpQTtAN1WaKvFdvSPJZ5z+MfSFnQDWke0p32GvJQPcY2uQ8qEusfK1RXo368xaJFUWxDRWRPzacrPljIQ6CPp+KvzIHXmFgplWMU/IcYrnKVLl7Y+GV69ehXJ7tSpU/5vHXDtzp07yzPnXw3dv3/f7d27159b2tqyZYs7ffp02++3o84VK1bM+U33V69euf379/t2uqVK52LicmvXrvVPMkRnyMaNG92GDRvmPDnpBdSFT/Gw59q1a2XqrO1v3rwxPznJVY+mFz9bffjo0SN3/vx59+TJE39848YNnx6Cp2RSx9mzZ31cLCTQVcevfspjsR324snUqlWrvBQ3Ij8GVq9e7esQP+QYp/2M57pt5RjLVeQeF+G8UbffBWs85/CPpa2q+TC3D3PRrzGYok6/Q2c8HZctE1euXHG///3vfR0WP9ftC7QF3b7//vsy5R051wCELFZaWyY2bdrUGpgQTIBnzpwpc+08fPiwPHrHr7/+6p4+fVqe5WsrFymdw4lLZM2aNW0TEelMDh/iBnD8+HH/YUmuR52oe5BJ2Q7BGFi3bp2/CV++fNnfnHbv3u2vx81ayDF2+hnPTR47Kdv7Gc912rLM4YuNVF/UGYMpuo15fPC4efOm27p1a5mSFyxysU/566+/9vEQMmj3ZUL6jV8Qj4+Pz9lPhElRf8rGZLh+/frWQBobG/ODPgSfbvUnUxxjoF2/ft2fW9q6ffu2O3jwYNugRb3YXzofTyCqdMYTaeh29OjRMncWlMGetdjEUgf4cXp6dp8rJsvXr1+3nqYLohs+xVuw1mPt017J5UM8rVmyZIl78OBBmeJ8nXjqMahYbccYwBMk3ISxbw/X7Nq1y9+U5CZqGTspeukLHaud0GXme+xYmI/xZcFiez/juU5bVfPhfM8tlhirS84xmKKXmIfNmzdv9r6z+LmbeMaiG0+iw4VunbkF5fAU+W6NfdWELBb8PqGQcF8SBPuPBORPTEz4Y1wvecVE0rY3CsfFQG/VYW2rmBjL3Fmwp6sY6D4PZXFNiC4D0fpqpD2rzrG6YmUsEuoe2h6zrZu2rPVU9WmsDhD62SqdfIi6UKekjY6O+nb1sbQZxkVxk2nLj7UjoJz42lImJaHesEXHN46lbCp+cIw0uUbqhr1SxjJ2rHal9IGE/R/zjaVMVVvh9YLuzzqS0ifWXsz2KtExCNuQ1m2/p+I5p39SbYmuqfnQ6kNtO8rruaVTXTjW/ZUSGSdAdOi2L3CMNLlG6tZj0CpVbWmdQ3RbFj9byog/xC6tm6RJGU2nvpCyqCfMo1AWs4yUB4QQQgghhDQSfg8xIYQQQghpNFwQE0IIIYSQRsMFMSGEEEIIaTRcEBNCCCGEkEbDBTEhhBBCCGk0XBATQgghhJBGwwUxIYQQQghpNFwQE0IIIYSQRsMFMSGEEEIIaTRcEBNCCCGEkEbDBTEhhBBCCGk0XBATQgghhJBGwwUxIYQQQghpNFwQE0IIIYSQRsMFMSGEEEIIaTRcEBNCCCGEkEbDBTEhhBBCCGk0XBATQgghhJBGwwUxIYQQQghpNFwQE0IIIYSQRsMFMSGEEEIIaTRcEBNCCCGEkEbDBTEhhBBCCGk0XBATQgghhJBGwwUxIYQQQghpMM79f9+7QlQJnSm/AAAAAElFTkSuQmCC)"
      ],
      "metadata": {
        "id": "jfFIiXcL5yQU"
      }
    },
    {
      "cell_type": "markdown",
      "source": [
        "13. Eliminar el archivo en HADOOP"
      ],
      "metadata": {
        "id": "jEqFZSp15yEd"
      }
    },
    {
      "cell_type": "code",
      "source": [
        "hdfs dfs –rm –f /user/rawdata/example/pg75306.tar.gz"
      ],
      "metadata": {
        "id": "DuYVNrOz52qU"
      },
      "execution_count": null,
      "outputs": []
    },
    {
      "cell_type": "markdown",
      "source": [],
      "metadata": {
        "id": "v5a7IFfI54yV"
      }
    },
    {
      "cell_type": "markdown",
      "source": [
        "Plus ejecutar un trabajo en HADOOP"
      ],
      "metadata": {
        "id": "6whSwsgx54jl"
      }
    },
    {
      "cell_type": "code",
      "source": [
        "hadoop jar $HADOOP_HOME/share/hadoop/mapreduce/sources/hadoop-mapreduce-examples-2.7.2-sources.jar org.apache.hadoop.examples.WordCount input output"
      ],
      "metadata": {
        "id": "JOpSMxAb59F0"
      },
      "execution_count": null,
      "outputs": []
    },
    {
      "cell_type": "markdown",
      "source": [],
      "metadata": {
        "id": "cpWXW6e159q8"
      }
    },
    {
      "cell_type": "markdown",
      "source": [
        "Plus ver el resultado del trabajo en HADOOP"
      ],
      "metadata": {
        "id": "oskudWHI5_Mc"
      }
    },
    {
      "cell_type": "code",
      "source": [],
      "metadata": {
        "id": "EiOmiMX46BqM"
      },
      "execution_count": null,
      "outputs": []
    },
    {
      "cell_type": "markdown",
      "source": [],
      "metadata": {
        "id": "ZHRy291U6CQs"
      }
    }
  ]
}